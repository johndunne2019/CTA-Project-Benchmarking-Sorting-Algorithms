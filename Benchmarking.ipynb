{
 "cells": [
  {
   "cell_type": "markdown",
   "metadata": {},
   "source": [
    "### I have included in this notebook the code for the five sorting algorithms to be implemented in this project. Sourced from online resources which are provided and added my own comments.\n",
    "\n",
    "### Followed by benchmarking section where all five sorting algotihms are ran ten times each on randomly generated arrays and the average time of the the ten runs will be output."
   ]
  },
  {
   "cell_type": "markdown",
   "metadata": {},
   "source": [
    "### 1. Bubble Sort\n",
    "   "
   ]
  },
  {
   "cell_type": "code",
   "execution_count": 1,
   "metadata": {},
   "outputs": [],
   "source": [
    "# Code sourced from: https://runestone.academy/runestone/books/published/pythonds/SortSearch/TheBubbleSort.html\n",
    "# Added my own comments\n",
    "# Bubble Sort has the capability to stop running when the list becomes sorted\n",
    "\n",
    "# Bubble sort function is created taking one input\n",
    "def bubbleSort(alist):\n",
    "    # A variable called exchanges is created and set to true \n",
    "    exchanges = True\n",
    "    # the variable passnum is set to the size of the input array minus 1 \n",
    "    passnum = len(alist)-1\n",
    "    # while loop executes while there is more than one element in the array and there are exchanges to be made\n",
    "    while passnum > 0 and exchanges:\n",
    "        # exchanges set to false at beginning of the loop\n",
    "        exchanges = False\n",
    "        # An inner for loop traverses each element in passnum array\n",
    "        for i in range(passnum):\n",
    "            # if the element on the left is greater than the element on the right then we must swap positions and set exchanges to boolean true\n",
    "            if alist[i]>alist[i+1]:\n",
    "                exchanges = True\n",
    "                # the element on the left is stored in a temporary variable\n",
    "                temp = alist[i]\n",
    "                # element on the left set equal to the element on its right\n",
    "                alist[i] = alist[i+1]\n",
    "                # the element that was originally on the left is moved from temp storage to the right position\n",
    "                alist[i+1] = temp\n",
    "                # Without the temp storage the left would be overwritten \n",
    "        # the new value od passnum is the previous array length minus 1 as we one less element to sort\n",
    "        passnum = passnum-1"
   ]
  },
  {
   "cell_type": "markdown",
   "metadata": {},
   "source": [
    "**Testing the Bubble Sort**"
   ]
  },
  {
   "cell_type": "code",
   "execution_count": 2,
   "metadata": {},
   "outputs": [],
   "source": [
    "#alist= [54,26,93,17,77,31,44,55,20]\n",
    "#bubbleSort(alist)\n",
    "#print(alist)"
   ]
  },
  {
   "cell_type": "markdown",
   "metadata": {},
   "source": [
    "**Testing with random array using example provided in project specification**"
   ]
  },
  {
   "cell_type": "code",
   "execution_count": 3,
   "metadata": {},
   "outputs": [],
   "source": [
    "#def random_array(n):\n",
    "    # empty array created to hold results\n",
    "    #array = []\n",
    "    # for loop will loop through input size to generate input size n integers\n",
    "    #for i in range(0, n, 1):\n",
    "        # randint generates random integers in a specified range. I have specified the upper bound of 99\n",
    "        #array.append(np.random.randint(0, 100))\n",
    "    #return array\n",
    "\n",
    "# random array generated\n",
    "#alist = random_array(500)\n",
    "# start time is the current time when this line is executed\n",
    "#start_time = time.time()\n",
    "# Bubble sort function called \n",
    "#bubbleSort(alist)\n",
    "# merge sort function called\n",
    "#mergeSort(alist)\n",
    "# insertion sort called\n",
    "#insertionSort(alist)\n",
    "# Sorted list will be printed to the console\n",
    "# commented out the array to be printed as I only need the time \n",
    "#print(alist)\n",
    "# end time is the current time when algorithm has finished running\n",
    "#end_time=time.time()\n",
    "# end time minus start time will show time taken for algorithm to execute\n",
    "#time_elapsed= end_time - start_time\n",
    "#print(round(time_elapsed, 3))"
   ]
  },
  {
   "cell_type": "markdown",
   "metadata": {},
   "source": [
    "### 2. Insertion Sort"
   ]
  },
  {
   "cell_type": "code",
   "execution_count": 4,
   "metadata": {},
   "outputs": [],
   "source": [
    "# Code sourced from: https://runestone.academy/runestone/books/published/pythonds/SortSearch/TheInsertionSort.html\n",
    "#Added my own comments\n",
    "\n",
    "# Create an insertion sort function\n",
    "def insertionSort(alist):\n",
    "    # for loop to iterate over the list from index 1 to the end of the list\n",
    "    # we need n-1 passes to sort an input size n \n",
    "   for index in range(1,len(alist)):\n",
    "    # the position of the current item in the list is stored as currentvalue\n",
    "     currentvalue = alist[index]\n",
    "     position = index\n",
    "    # while loop checks the index of the element is greater than index zero\n",
    "    # The current element is compared to the element to its left\n",
    "    # if the position to its left is less than a shift operation will be made\n",
    "     while position>0 and alist[position-1]>currentvalue:\n",
    "         # this is the shift operation that moves the element back at each iteration of the while loop\n",
    "         # an element on the right that is less than an element on the left when compared is shifted to the left\n",
    "         alist[position]=alist[position-1]\n",
    "         # Note the variable position holds the new value of the sorted sub list\n",
    "         # This is not a complete exchange\n",
    "         position = position-1\n",
    "    # The sorted sublist is held in the variable position and this is now set equal to alist\n",
    "     alist[position]=currentvalue"
   ]
  },
  {
   "cell_type": "markdown",
   "metadata": {},
   "source": [
    "**Testing Insertion Sort**"
   ]
  },
  {
   "cell_type": "code",
   "execution_count": 5,
   "metadata": {},
   "outputs": [],
   "source": [
    "# Testing the algorithm\n",
    "#alist = [54,26,93,17,77,31,44,55,20]\n",
    "#insertionSort(alist)\n",
    "#print(alist)"
   ]
  },
  {
   "cell_type": "markdown",
   "metadata": {},
   "source": [
    "### 3. Merge Sort"
   ]
  },
  {
   "cell_type": "code",
   "execution_count": 6,
   "metadata": {},
   "outputs": [],
   "source": [
    "# Code sourced from: https://runestone.academy/runestone/books/published/pythonds/SortSearch/TheMergeSort.html\n",
    "# Added my own comments\n",
    "\n",
    "# Merge sort function created taking a list as input\n",
    "# First half of the code concerned with splitting the lists into sub-lists\n",
    "def mergeSort(alist):\n",
    "    # print statement prints out the result of splitting the list into sub-lists, will comment out later\n",
    "    #print(\"Splitting \",alist)\n",
    "    # if statement will execute on lists with more than one element\n",
    "    if len(alist)>1:\n",
    "        # mid point of the list found \n",
    "        mid = len(alist)//2\n",
    "        # list sliced into left and right halves or sub-lists\n",
    "        # left half contains from start of list to mid point and right half from mid point to the end of list\n",
    "        lefthalf = alist[:mid]\n",
    "        righthalf = alist[mid:]\n",
    "        # mergeSort function is called on both halves to sort the lists\n",
    "        mergeSort(lefthalf)\n",
    "        mergeSort(righthalf)\n",
    "        # The sub-lists are now sorted\n",
    "\n",
    "        # From here on the code is concerned with merging the smaller sorted lists into a final sorted list\n",
    "        i=0\n",
    "        j=0\n",
    "        k=0\n",
    "        # While loops executes as long as both sub-lists contain at least one element\n",
    "        while i < len(lefthalf) and j < len(righthalf):\n",
    "            # if the element in the left half is less or equal to than the element in the right half it is stored in alist k\n",
    "            # this ensures the algorithm is stable as for elements with equal sort keys the element for the left half is places on the left\n",
    "            if lefthalf[i] <= righthalf[j]:\n",
    "                alist[k]=lefthalf[i]\n",
    "                i=i+1\n",
    "            # else statement executes if element on left half is not less than or equal to element in right half\n",
    "            else:\n",
    "                alist[k]=righthalf[j]\n",
    "                j=j+1\n",
    "            k=k+1\n",
    "            # the values of i, j and k are incremented after the execution of the relevant section of code\n",
    "        # The above while loop will execute as long as both sub-lits contain at least one element\n",
    "        # In the case of uneven numbers then one sub-list may have an element left and the other wll be empty\n",
    "        # Two additional while loops are added to deal with these cases\n",
    "\n",
    "        # This while loop will execute as long as there is an element present in the left half sub-list\n",
    "        while i < len(lefthalf):\n",
    "            alist[k]=lefthalf[i]\n",
    "            i=i+1\n",
    "            k=k+1\n",
    "        # This while loop will execute as long as there is an element present in the right half of the sub-list\n",
    "        while j < len(righthalf):\n",
    "            alist[k]=righthalf[j]\n",
    "            j=j+1\n",
    "            k=k+1\n",
    "    # print statement that shows the merging process in progress, will comment out later\n",
    "   # print(\"Merging \",alist)"
   ]
  },
  {
   "cell_type": "markdown",
   "metadata": {},
   "source": [
    "**Testing Merge Sort**"
   ]
  },
  {
   "cell_type": "code",
   "execution_count": 7,
   "metadata": {},
   "outputs": [],
   "source": [
    "# Testing the algorithm\n",
    "#alist = [54,26,93,17,77,31,44,55,20]\n",
    "#mergeSort(alist)\n",
    "#print(alist)"
   ]
  },
  {
   "cell_type": "code",
   "execution_count": null,
   "metadata": {},
   "outputs": [],
   "source": []
  },
  {
   "cell_type": "code",
   "execution_count": null,
   "metadata": {},
   "outputs": [],
   "source": []
  },
  {
   "cell_type": "markdown",
   "metadata": {},
   "source": [
    "### 6. Benchmarking the five sorting algorithms\n",
    "\n",
    "**Import libraries**"
   ]
  },
  {
   "cell_type": "code",
   "execution_count": 8,
   "metadata": {},
   "outputs": [],
   "source": [
    "import time # built in python time module\n",
    "import numpy as np \n",
    "import pandas as pd"
   ]
  },
  {
   "cell_type": "markdown",
   "metadata": {},
   "source": [
    "**Create a pandas DataFrame which will be used to hold results**"
   ]
  },
  {
   "cell_type": "code",
   "execution_count": 9,
   "metadata": {},
   "outputs": [],
   "source": [
    "#pandas.dataframe used to created a pandas dataframe\n",
    "#data = pd.DataFrame(columns = [\"Size\", \"Bubble Sort\", \"Merge Sort\", \"Insertion Sort\"])\n",
    "\n",
    "# display the headings\n",
    "#data.head()"
   ]
  },
  {
   "cell_type": "code",
   "execution_count": 10,
   "metadata": {},
   "outputs": [],
   "source": [
    "cols = [\"100\", \"250\", \"500\"]\n",
    "indexes = [\"Bubble Sort\", \"Merge Sort\", \"Insertion Sort\"]\n",
    "df = pd.DataFrame(index=indexes,columns=cols)"
   ]
  },
  {
   "cell_type": "code",
   "execution_count": 11,
   "metadata": {},
   "outputs": [
    {
     "data": {
      "text/html": [
       "<div>\n",
       "<style scoped>\n",
       "    .dataframe tbody tr th:only-of-type {\n",
       "        vertical-align: middle;\n",
       "    }\n",
       "\n",
       "    .dataframe tbody tr th {\n",
       "        vertical-align: top;\n",
       "    }\n",
       "\n",
       "    .dataframe thead th {\n",
       "        text-align: right;\n",
       "    }\n",
       "</style>\n",
       "<table border=\"1\" class=\"dataframe\">\n",
       "  <thead>\n",
       "    <tr style=\"text-align: right;\">\n",
       "      <th></th>\n",
       "      <th>100</th>\n",
       "      <th>250</th>\n",
       "      <th>500</th>\n",
       "    </tr>\n",
       "  </thead>\n",
       "  <tbody>\n",
       "    <tr>\n",
       "      <th>Bubble Sort</th>\n",
       "      <td>NaN</td>\n",
       "      <td>NaN</td>\n",
       "      <td>NaN</td>\n",
       "    </tr>\n",
       "    <tr>\n",
       "      <th>Merge Sort</th>\n",
       "      <td>NaN</td>\n",
       "      <td>NaN</td>\n",
       "      <td>NaN</td>\n",
       "    </tr>\n",
       "    <tr>\n",
       "      <th>Insertion Sort</th>\n",
       "      <td>NaN</td>\n",
       "      <td>NaN</td>\n",
       "      <td>NaN</td>\n",
       "    </tr>\n",
       "  </tbody>\n",
       "</table>\n",
       "</div>"
      ],
      "text/plain": [
       "                100  250  500\n",
       "Bubble Sort     NaN  NaN  NaN\n",
       "Merge Sort      NaN  NaN  NaN\n",
       "Insertion Sort  NaN  NaN  NaN"
      ]
     },
     "execution_count": 11,
     "metadata": {},
     "output_type": "execute_result"
    }
   ],
   "source": [
    "#data[\"Size\"] = (5, 10, 20, 30, 50) # test on small data size \n",
    "df"
   ]
  },
  {
   "cell_type": "markdown",
   "metadata": {},
   "source": [
    "**Generate random arrays of numbers to be used in the benchmarking**"
   ]
  },
  {
   "cell_type": "code",
   "execution_count": 12,
   "metadata": {},
   "outputs": [
    {
     "name": "stdout",
     "output_type": "stream",
     "text": [
      "Size of array: 100\n",
      "0.0009982585906982422\n",
      "0.0009987354278564453\n",
      "0.0010039806365966797\n",
      "0.0010006427764892578\n",
      "0.001003265380859375\n",
      "0.001001119613647461\n",
      "0.0\n",
      "0.0009965896606445312\n",
      "0.0009949207305908203\n",
      "0.0\n",
      "Size of array: 250\n",
      "0.0019981861114501953\n",
      "0.0039997100830078125\n",
      "0.00798797607421875\n",
      "0.0029900074005126953\n",
      "0.003981351852416992\n",
      "0.001998424530029297\n",
      "0.002993345260620117\n",
      "0.0029921531677246094\n",
      "0.003991127014160156\n",
      "0.002000570297241211\n",
      "Size of array: 500\n",
      "0.005991458892822266\n",
      "0.004988193511962891\n",
      "0.00499415397644043\n",
      "0.004990100860595703\n",
      "0.005990028381347656\n",
      "0.005990743637084961\n",
      "0.004992008209228516\n",
      "0.005991697311401367\n",
      "0.005988597869873047\n",
      "0.005987405776977539\n",
      "Size of array: 750\n",
      "0.010976552963256836\n",
      "0.008990764617919922\n",
      "0.00897979736328125\n",
      "0.009985923767089844\n",
      "0.009989500045776367\n",
      "0.008984804153442383\n",
      "0.008986234664916992\n",
      "0.008985757827758789\n",
      "0.008984565734863281\n",
      "0.00898599624633789\n",
      "Size of array: 1000\n",
      "0.010982036590576172\n",
      "0.01198267936706543\n",
      "0.011984109878540039\n",
      "0.014977455139160156\n",
      "0.01298069953918457\n",
      "0.012978792190551758\n",
      "0.013974428176879883\n",
      "0.013978242874145508\n",
      "0.012982845306396484\n",
      "0.025964021682739258\n",
      "Size of array: 2500\n",
      "0.03693985939025879\n",
      "0.034944772720336914\n",
      "0.036940813064575195\n",
      "0.04092836380004883\n",
      "0.0439305305480957\n",
      "0.03494143486022949\n",
      "0.04093599319458008\n",
      "0.0479283332824707\n",
      "0.03394937515258789\n",
      "0.034947872161865234\n",
      "Size of array: 5000\n",
      "0.07188606262207031\n",
      "0.07301878929138184\n",
      "0.0738821029663086\n",
      "0.07288527488708496\n",
      "0.07587003707885742\n",
      "0.07288694381713867\n",
      "0.07188057899475098\n",
      "0.07288551330566406\n",
      "0.07388496398925781\n",
      "0.07488203048706055\n",
      "Size of array: 7500\n",
      "0.1138153076171875\n",
      "0.1287999153137207\n",
      "0.13078713417053223\n",
      "0.1627330780029297\n",
      "0.14477324485778809\n",
      "0.11082124710083008\n",
      "0.11481595039367676\n",
      "0.11981081962585449\n",
      "0.1158139705657959\n",
      "0.12380456924438477\n",
      "Size of array: 10000\n",
      "0.170729398727417\n",
      "0.15975189208984375\n",
      "0.15874981880187988\n",
      "0.15575623512268066\n",
      "0.1567528247833252\n",
      "0.160752534866333\n",
      "0.1587538719177246\n",
      "0.15775442123413086\n",
      "0.15610146522521973\n",
      "0.15476393699645996\n"
     ]
    }
   ],
   "source": [
    "#numpy.random.randint: https://docs.scipy.org/doc/numpy-1.16.0/reference/routines.random.html#simple-random-data\n",
    "#similar to example provided in the project specificaton but I will use numpy.random  instead of the Python random module\n",
    "\n",
    "# Create a function to be used to generate random integers from numpy.random\n",
    "def random_array(n):\n",
    "    # empty array created to hold results\n",
    "    array = []\n",
    "    # for loop will loop through input size to generate input size n integers\n",
    "    for i in range(0, n, 1):\n",
    "        # randint generates random integers in a specified range. I have specified the upper bound of 99\n",
    "        array.append(np.random.randint(0, 100))\n",
    "    return array\n",
    "\n",
    "# I need to generate a random array for each input size I want to test the algorithms on\n",
    "# calling the random array function within a nested for loop could work\n",
    "\n",
    " #declare array sizes for testing\n",
    "testing_arrays = [100, 250, 500, 750, 1000, 2500, 5000, 7500, 10000] \n",
    "# for loop to loop through the sizes contained in array\n",
    "for array in range(len(testing_arrays)):\n",
    "    # added print statement for testing\n",
    "    print(\"Size of array: \" + str(testing_arrays[array]))\n",
    "    # create container to hols results??\n",
    "    #time_of_each_run = []\n",
    "    # I want the loop to run 10 ten times calling the random array generation function on each testing array size\n",
    "    for d in range(10): \n",
    "        # I will call the new arrays benchemark array\n",
    "        benchmark_array= random_array(testing_arrays[array])\n",
    "        #print out arrays to check they generate ok\n",
    "        #print(benchmark_array)\n",
    "        #use the python time module to time each run of the algorithm\n",
    "        #using example from project specification as a guide\n",
    "        start_time = time.time()\n",
    "        #call sorting algoithm here\n",
    "        #run a test for all algorithms in my project to see everything looks ok\n",
    "        #bubbleSort(benchmark_array)\n",
    "        #insertionSort(benchmark_array)\n",
    "        mergeSort(benchmark_array)\n",
    "        finish_time = time.time()\n",
    "        time_elapsed= finish_time - start_time\n",
    "        print(time_elapsed)\n",
    "        #time_of_each_run.append(time_elapsed)\n",
    "        #print(time_of_each_run)\n",
    "        #average = np.mean(time_of_each_run)\n",
    "        #print(average)\n",
    "  \n",
    "\n",
    "    \n",
    "\n",
    "# create an empty array to hold a set of arrays that I will generate for each input size in my dataset\n",
    "#new_array = []\n",
    "## I need to loop through the input sizes that are stored in the dataframe and assign that size of random integers to the new_array container\n",
    "#for benchmark_array_size in data[\"Size\"]:\n",
    "    # counter created\n",
    "    #index = 0\n",
    "    # the random_array function is called taking the size of inputs from the data set as input\n",
    "    #new_array.append(random_array(benchmark_array_size))\n",
    "    # counter incremented by 1 on each iteration\n",
    "   # index + 1\n",
    "\n",
    "    # test are the arrays created\n",
    "    #print(new_array)\n",
    "           \n",
    "      "
   ]
  },
  {
   "cell_type": "code",
   "execution_count": 13,
   "metadata": {},
   "outputs": [],
   "source": [
    "#average_time = np.mean(time_of_each_run)\n",
    "#print(average_time)"
   ]
  },
  {
   "cell_type": "code",
   "execution_count": null,
   "metadata": {},
   "outputs": [],
   "source": []
  },
  {
   "cell_type": "code",
   "execution_count": null,
   "metadata": {},
   "outputs": [],
   "source": []
  },
  {
   "cell_type": "markdown",
   "metadata": {},
   "source": []
  },
  {
   "cell_type": "code",
   "execution_count": null,
   "metadata": {},
   "outputs": [],
   "source": []
  },
  {
   "cell_type": "code",
   "execution_count": null,
   "metadata": {},
   "outputs": [],
   "source": []
  },
  {
   "cell_type": "markdown",
   "metadata": {},
   "source": []
  },
  {
   "cell_type": "code",
   "execution_count": null,
   "metadata": {},
   "outputs": [],
   "source": []
  },
  {
   "cell_type": "markdown",
   "metadata": {},
   "source": []
  },
  {
   "cell_type": "code",
   "execution_count": null,
   "metadata": {},
   "outputs": [],
   "source": []
  },
  {
   "cell_type": "code",
   "execution_count": null,
   "metadata": {},
   "outputs": [],
   "source": [
    "\n"
   ]
  },
  {
   "cell_type": "code",
   "execution_count": null,
   "metadata": {},
   "outputs": [],
   "source": []
  },
  {
   "cell_type": "code",
   "execution_count": null,
   "metadata": {},
   "outputs": [],
   "source": []
  }
 ],
 "metadata": {
  "kernelspec": {
   "display_name": "Python 3",
   "language": "python",
   "name": "python3"
  },
  "language_info": {
   "codemirror_mode": {
    "name": "ipython",
    "version": 3
   },
   "file_extension": ".py",
   "mimetype": "text/x-python",
   "name": "python",
   "nbconvert_exporter": "python",
   "pygments_lexer": "ipython3",
   "version": "3.7.1"
  }
 },
 "nbformat": 4,
 "nbformat_minor": 2
}
