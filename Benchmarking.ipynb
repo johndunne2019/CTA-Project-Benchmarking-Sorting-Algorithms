{
 "cells": [
  {
   "cell_type": "markdown",
   "metadata": {},
   "source": [
    "## CTA Project 2020 \n",
    "\n",
    "### Submitted by G00273895 John Dunne \n",
    "\n",
    "I have included in this notebook the code for the five sorting algorithms to be implemented in this project. Sourced from online resources which are provided and added my own comments.\n",
    "\n",
    "Followed by benchmarking section where all five sorting algotihms are ran ten times each on randomly generated arrays and the average time of the the ten runs will be output in a pandas dataframe."
   ]
  },
  {
   "cell_type": "markdown",
   "metadata": {},
   "source": [
    "Go to Kernel in the toolbar and click Restart & run all to run all code in this notebook"
   ]
  },
  {
   "cell_type": "markdown",
   "metadata": {},
   "source": [
    "### 1. Bubble Sort\n",
    "   "
   ]
  },
  {
   "cell_type": "code",
   "execution_count": 1,
   "metadata": {},
   "outputs": [],
   "source": [
    "# Code sourced from: https://runestone.academy/runestone/books/published/pythonds/SortSearch/TheBubbleSort.html\n",
    "# Added my own comments\n",
    "# Bubble Sort has the capability to stop running when the list becomes sorted\n",
    "\n",
    "# Bubble sort function is created taking one input\n",
    "def bubbleSort(alist):\n",
    "    # A variable called exchanges is created and set to true \n",
    "    exchanges = True\n",
    "    # the variable passnum is set to the size of the input array minus 1 \n",
    "    passnum = len(alist)-1\n",
    "    # while loop executes while there is more than one element in the array and there are exchanges to be made\n",
    "    while passnum > 0 and exchanges:\n",
    "        # exchanges set to false at beginning of the loop\n",
    "        exchanges = False\n",
    "        # An inner for loop traverses each element in passnum array\n",
    "        for i in range(passnum):\n",
    "            # if the element on the left is greater than the element on the right then we must swap positions and set exchanges to boolean true\n",
    "            if alist[i]>alist[i+1]:\n",
    "                exchanges = True\n",
    "                # the element on the left is stored in a temporary variable\n",
    "                temp = alist[i]\n",
    "                # element on the left set equal to the element on its right\n",
    "                alist[i] = alist[i+1]\n",
    "                # the element that was originally on the left is moved from temp storage to the right position\n",
    "                alist[i+1] = temp\n",
    "                # Without the temp storage the left would be overwritten \n",
    "        # the new value od passnum is the previous array length minus 1 as we one less element to sort\n",
    "        passnum = passnum-1"
   ]
  },
  {
   "cell_type": "markdown",
   "metadata": {},
   "source": [
    "**Testing the Bubble Sort**\n",
    "\n",
    "Commented out"
   ]
  },
  {
   "cell_type": "code",
   "execution_count": 2,
   "metadata": {},
   "outputs": [],
   "source": [
    "#alist= [54,26,93,17,77,31,44,55,20]\n",
    "#bubbleSort(alist)\n",
    "#print(alist)"
   ]
  },
  {
   "cell_type": "markdown",
   "metadata": {},
   "source": [
    "### 2. Merge Sort"
   ]
  },
  {
   "cell_type": "code",
   "execution_count": 3,
   "metadata": {},
   "outputs": [],
   "source": [
    "# Code sourced from: https://runestone.academy/runestone/books/published/pythonds/SortSearch/TheMergeSort.html\n",
    "# Added my own comments\n",
    "\n",
    "# Merge sort function created taking a list as input\n",
    "# First half of the code concerned with splitting the lists into sub-lists\n",
    "def mergeSort(alist):\n",
    "    # print statement prints out the result of splitting the list into sub-lists, will comment out later\n",
    "    #print(\"Splitting \",alist)\n",
    "    # if statement will execute on lists with more than one element\n",
    "    if len(alist)>1:\n",
    "        # mid point of the list found \n",
    "        mid = len(alist)//2\n",
    "        # list sliced into left and right halves or sub-lists\n",
    "        # left half contains from start of list to mid point and right half from mid point to the end of list\n",
    "        lefthalf = alist[:mid]\n",
    "        righthalf = alist[mid:]\n",
    "        # mergeSort function is called on both halves to sort the lists\n",
    "        mergeSort(lefthalf)\n",
    "        mergeSort(righthalf)\n",
    "        # The sub-lists are now sorted\n",
    "\n",
    "        # From here on the code is concerned with merging the smaller sorted lists into a final sorted list\n",
    "        i=0\n",
    "        j=0\n",
    "        k=0\n",
    "        # While loops executes as long as both sub-lists contain at least one element\n",
    "        while i < len(lefthalf) and j < len(righthalf):\n",
    "            # if the element in the left half is less or equal to than the element in the right half it is stored in alist k\n",
    "            # this ensures the algorithm is stable as for elements with equal sort keys the element for the left half is places on the left\n",
    "            if lefthalf[i] <= righthalf[j]:\n",
    "                alist[k]=lefthalf[i]\n",
    "                i=i+1\n",
    "            # else statement executes if element on left half is not less than or equal to element in right half\n",
    "            else:\n",
    "                alist[k]=righthalf[j]\n",
    "                j=j+1\n",
    "            k=k+1\n",
    "            # the values of i, j and k are incremented after the execution of the relevant section of code\n",
    "        # The above while loop will execute as long as both sub-lits contain at least one element\n",
    "        # In the case of uneven numbers then one sub-list may have an element left and the other wll be empty\n",
    "        # Two additional while loops are added to deal with these cases\n",
    "\n",
    "        # This while loop will execute as long as there is an element present in the left half sub-list\n",
    "        while i < len(lefthalf):\n",
    "            alist[k]=lefthalf[i]\n",
    "            i=i+1\n",
    "            k=k+1\n",
    "        # This while loop will execute as long as there is an element present in the right half of the sub-list\n",
    "        while j < len(righthalf):\n",
    "            alist[k]=righthalf[j]\n",
    "            j=j+1\n",
    "            k=k+1\n",
    "    # print statement that shows the merging process in progress, will comment out later\n",
    "   # print(\"Merging \",alist)"
   ]
  },
  {
   "cell_type": "markdown",
   "metadata": {},
   "source": [
    "**Testing Merge Sort**"
   ]
  },
  {
   "cell_type": "code",
   "execution_count": 4,
   "metadata": {},
   "outputs": [],
   "source": [
    "# Testing the algorithm\n",
    "#alist = [54,26,93,17,77,31,44,55,20]\n",
    "#mergeSort(alist)\n",
    "#print(alist)"
   ]
  },
  {
   "cell_type": "markdown",
   "metadata": {},
   "source": [
    "### 3. Counting Sort"
   ]
  },
  {
   "cell_type": "code",
   "execution_count": 5,
   "metadata": {},
   "outputs": [],
   "source": [
    "#Code sourced from: https://www.w3resource.com/python-exercises/data-structures-and-algorithms/python-search-and-sorting-exercise-10.php\n",
    "# Added my own comments\n",
    "# I found it hard to find good examples of this sorting algorithm online \n",
    "# I had to change the function to only take an array as input as I wont be entering a max val when benchmarking \n",
    "\n",
    "# In the source code the function accepts:\n",
    "#def counting_sort(array1, max_val):\n",
    "    #m = max_val + 1\n",
    "\n",
    "def counting_sort(array1):\n",
    "# I changed the sourced code to have a set max val of 100 \n",
    "# I chose this as I am generating random integers up to 100 in the benchmarking\n",
    "    m = 100 + 1   # array created of size of range on input plus one \n",
    "    count = [0] * m                \n",
    "    \n",
    "    for a in array1:\n",
    "    # for loop loops through input array and counts number of occurrences \n",
    "    # the count is stored used a counter\n",
    "        count[a] += 1             \n",
    "    i = 0\n",
    "    for a in range(m):            \n",
    "        for c in range(count[a]):  \n",
    "            array1[i] = a\n",
    "            i += 1\n",
    "    return array1\n"
   ]
  },
  {
   "cell_type": "markdown",
   "metadata": {},
   "source": [
    "**Testing Counting Sort**"
   ]
  },
  {
   "cell_type": "code",
   "execution_count": 6,
   "metadata": {},
   "outputs": [],
   "source": [
    "#print(counting_sort( [1, 2, 7, 3, 2, 1, 4, 2, 3, 2, 1], 7 ))"
   ]
  },
  {
   "cell_type": "markdown",
   "metadata": {},
   "source": [
    "### 4. Insertion Sort"
   ]
  },
  {
   "cell_type": "code",
   "execution_count": 7,
   "metadata": {},
   "outputs": [],
   "source": [
    "# Code sourced from: https://runestone.academy/runestone/books/published/pythonds/SortSearch/TheInsertionSort.html\n",
    "#Added my own comments\n",
    "\n",
    "# Create an insertion sort function\n",
    "def insertionSort(alist):\n",
    "    # for loop to iterate over the list from index 1 to the end of the list\n",
    "    # we need n-1 passes to sort an input size n \n",
    "   for index in range(1,len(alist)):\n",
    "    # the position of the current item in the list is stored as currentvalue\n",
    "     currentvalue = alist[index]\n",
    "     position = index\n",
    "    # while loop checks the index of the element is greater than index zero\n",
    "    # The current element is compared to the element to its left\n",
    "    # if the position to its left is less than a shift operation will be made\n",
    "     while position>0 and alist[position-1]>currentvalue:\n",
    "         # this is the shift operation that moves the element back at each iteration of the while loop\n",
    "         # an element on the right that is less than an element on the left when compared is shifted to the left\n",
    "         alist[position]=alist[position-1]\n",
    "         # Note the variable position holds the new value of the sorted sub list\n",
    "         # This is not a complete exchange\n",
    "         position = position-1\n",
    "    # The sorted sublist is held in the variable position and this is now set equal to alist\n",
    "     alist[position]=currentvalue"
   ]
  },
  {
   "cell_type": "markdown",
   "metadata": {},
   "source": [
    "**Testing Insertion Sort**"
   ]
  },
  {
   "cell_type": "code",
   "execution_count": 8,
   "metadata": {},
   "outputs": [],
   "source": [
    "# Testing the algorithm\n",
    "#alist = [54,26,93,17,77,31,44,55,20]\n",
    "#insertionSort(alist)\n",
    "#print(alist)"
   ]
  },
  {
   "cell_type": "markdown",
   "metadata": {},
   "source": [
    "### 5. Selection Sort"
   ]
  },
  {
   "cell_type": "code",
   "execution_count": 9,
   "metadata": {},
   "outputs": [],
   "source": [
    "#sourced from: https://stackabuse.com/sorting-algorithms-in-python/#selectionsort\n",
    "#Have to add my own comments\n",
    "\n",
    "def selection_sort(nums):\n",
    "    # This value of i corresponds to how many values were sorted\n",
    "    for i in range(len(nums)):\n",
    "        # We assume that the first item of the unsorted segment is the smallest\n",
    "        lowest_value_index = i\n",
    "        # This loop iterates over the unsorted items\n",
    "        for j in range(i + 1, len(nums)):\n",
    "            if nums[j] < nums[lowest_value_index]:\n",
    "                lowest_value_index = j\n",
    "        # Swap values of the lowest unsorted element with the first unsorted\n",
    "        # element\n",
    "        nums[i], nums[lowest_value_index] = nums[lowest_value_index], nums[i]\n",
    "\n",
    "\n"
   ]
  },
  {
   "cell_type": "code",
   "execution_count": 10,
   "metadata": {},
   "outputs": [],
   "source": [
    "# Testing the algorithm\n",
    "#random_list_of_nums = [12, 8, 3, 20, 11]\n",
    "#selection_sort(random_list_of_nums)\n",
    "#print(random_list_of_nums)"
   ]
  },
  {
   "cell_type": "markdown",
   "metadata": {},
   "source": [
    "### 6. Benchmarking the five sorting algorithms\n",
    "\n",
    "I have broken the benchmarking process into five smaller tasks:"
   ]
  },
  {
   "cell_type": "markdown",
   "metadata": {},
   "source": [
    "#### 6.1 - Run each algorithm ten times for each input size and calculate the average run time of the ten runs"
   ]
  },
  {
   "cell_type": "code",
   "execution_count": 11,
   "metadata": {},
   "outputs": [
    {
     "name": "stdout",
     "output_type": "stream",
     "text": [
      "Average time Bubble [2.3958683013916016, 14.476871490478516, 63.79876136779786, 152.06093788146973, 293.1386709213257, 467.9640293121338, 1958.4234714508057, 4298.621511459351, 7725.367426872253, 18003.876304626465, 23670.325326919556, 31532.211089134216]\n",
      "Average time Merge [0.7989168167114258, 2.3962020874023438, 5.491042137145996, 8.386778831481934, 12.180328369140625, 17.1736478805542, 32.94820785522461, 52.11837291717529, 73.883056640625, 124.30496215820312, 133.7906837463379, 161.7457389831543]\n",
      "Average time Counting[0.09984970092773438, 0.19960403442382812, 0.40013790130615234, 0.6997823715209961, 0.4992485046386719, 0.6994009017944336, 1.2984991073608398, 1.3972759246826172, 1.9967317581176758, 3.4946203231811523, 3.6934614181518555, 4.592776298522949]\n",
      "Average time Insertion [1.3974905014038086, 7.488536834716797, 33.8465690612793, 78.67593765258789, 152.95979976654053, 248.70834350585938, 1070.2937364578247, 2260.7500791549683, 4102.357983589172, 9830.46133518219, 12565.86480140686, 16679.230213165283]\n",
      "Average time Selection [1.0983943939208984, 6.390047073364258, 28.75511646270752, 66.19594097137451, 123.10791015625, 194.994854927063, 827.6001214981079, 1764.5647764205933, 3144.461512565613, 7748.7303256988525, 9805.699872970581, 12997.496390342712]\n"
     ]
    }
   ],
   "source": [
    "import time   # will be used to time the sorting algorithms\n",
    "import random #will be used to generate random arrays of integers\n",
    "import pandas as pd # will be used to output the results in a dataframe\n",
    "import numpy as np # will use numpy.mean to return the average of an array of ten run times\n",
    "import matplotlib.pyplot as plt #will be used to generate a plot of the data\n",
    "\n",
    "# create a function to generate random array of integers\n",
    "# sourced from sample given in the project specification\n",
    "# Python random module: https://docs.python.org/3/library/random.html\n",
    "def random_array(n):\n",
    "    array = []\n",
    "    for i in range(0, n, 1): # low, high, size \n",
    "        array.append(random.randint(0, 100))  # randomly generated arrays will contain integers in range 100\n",
    "    return array\n",
    "    \n",
    "# I will create an array of input sizes to be called in the random array function    \n",
    "#testing_arrays= [100, 250, 500, 750, 1000] # shorter list for testing\n",
    "testing_arrays = [100, 250, 500, 750, 1000, 1250, 2500, 3750, 5000, 7500, 8750, 10000]\n",
    "\n",
    "average_bubble = [] #Create a list to hold the average time of ten runs\n",
    "average_merge = [] #I will calculate the average of the ten run times for each input size\n",
    "average_counting = [] #I will append the average for each input size to this list\n",
    "average_insertion = [] #Python append to a list: https://www.w3schools.com/python/ref_list_append.asp\n",
    "average_selection = []\n",
    "    \n",
    "# for loop will loop through input size array & each input size will be used as input to the random array function\n",
    "for array in testing_arrays:\n",
    "    benchmark_array = random_array(array) \n",
    "        # I will generate just one array for each input size and pass a copy of the array to the sorting algorithms\n",
    "        # https://stackoverflow.com/questions/2612802/how-to-clone-or-copy-a-list\n",
    "        # this will be necessary to avoid passing an already sorted array to an algorithm on runs 2 through 10\n",
    "        \n",
    "    bubble_time = []  #create a list to hold running times for ten runs of each algorithm\n",
    "    merge_time = [] # time for each run will be appended to this list\n",
    "    counting_time = [] #I will then calculate the average time of the ten runs using numpy.mean\n",
    "    insertion_time = []\n",
    "    selection_time = []\n",
    "    \n",
    "    # for loop to loop through each input size ten times for the purpose of timing the algorithm ten times\n",
    "    for runs in range (10):        \n",
    "        #the first sorting algorithm will be timed using the Python time module \n",
    "        start_time = time.time()  #current time in seconds \n",
    "        bubbleSort(list(benchmark_array)) #copied array passed into Bubble Sort algorithm\n",
    "        finish_time = time.time()  #current time in seconds \n",
    "        time_elapsed = finish_time - start_time #time elapsed will be the difference between the start & finish times\n",
    "        #print(time_elapsed) testing purposes, comment out\n",
    "        bubble_time.append(time_elapsed)  #append the time to the container set up to hold the run times\n",
    "        \n",
    "        #repeat same procedure for the remaining 4 sorting algorithms:\n",
    "        \n",
    "        #Merge Sort time\n",
    "        start_time = time.time()\n",
    "        mergeSort(list(benchmark_array))\n",
    "        finish_time = time.time()\n",
    "        time_elapsed = finish_time - start_time\n",
    "        #print(time_elapsed)\n",
    "        merge_time.append(time_elapsed)\n",
    "            \n",
    "        #Counting sort time\n",
    "        start_time = time.time()\n",
    "        counting_sort(list(benchmark_array))\n",
    "        finish_time = time.time()\n",
    "        time_elapsed = finish_time - start_time\n",
    "        #print(time_elapsed)\n",
    "        counting_time.append(time_elapsed)\n",
    "            \n",
    "        #Insertion sort time\n",
    "        start_time = time.time()\n",
    "        insertionSort(list(benchmark_array))\n",
    "        finish_time = time.time()\n",
    "        time_elapsed = finish_time - start_time\n",
    "        #print(time_elapsed)\n",
    "        insertion_time.append(time_elapsed)\n",
    "            \n",
    "        #Selection sort time\n",
    "        start_time = time.time()\n",
    "        selection_sort(list(benchmark_array))\n",
    "        finish_time = time.time()\n",
    "        time_elapsed = finish_time - start_time\n",
    "        #print(time_elapsed)\n",
    "        selection_time.append(time_elapsed)\n",
    "    \n",
    "    #print for testing purposes, comment out \n",
    "    #print(bubble_time)\n",
    "    #print(merge_time)\n",
    "    #print(counting_time)\n",
    "    #print(insertion_time)\n",
    "    #print(selection_time)\n",
    "    \n",
    "    # I will use numpy.mean to return the average time of the list holding the 10 run times for eacj input size\n",
    "    # numpy.mean: https://docs.scipy.org/doc/numpy-1.13.0/reference/generated/numpy.mean.html\n",
    "    #mutiply by 1000 to convert seconds to milliseconds \n",
    "    average_time_bubble_sort = np.mean(bubble_time)*1000\n",
    "    average_bubble.append(average_time_bubble_sort)  #append the average time for each input size to the average time list\n",
    "    #print(f\"Average time for Bubble Sort on Input Size {array} : {average_time_bubble_sort}\") \n",
    "    # print for testing purposes, comment out later\n",
    "    \n",
    "    average_time_merge_sort = np.mean(merge_time)*1000\n",
    "    average_merge.append(average_time_merge_sort)\n",
    "    #print(f\"Average time for Merge Sort on Input Size {array} : {average_time_merge_sort}\")\n",
    "        \n",
    "    average_time_counting_sort = np.mean(counting_time)*1000\n",
    "    average_counting.append(average_time_counting_sort)\n",
    "    #print(f\"Average time for Counting Sort on Input Size {array} : {average_time_counting_sort}\")\n",
    "        \n",
    "    average_time_insertion_sort = np.mean(insertion_time)*1000\n",
    "    average_insertion.append(average_time_insertion_sort)\n",
    "    #print(f\"Average time for Insertion Sort on Input Size {array} : {average_time_insertion_sort}\")\n",
    "        \n",
    "    average_time_selection_sort = np.mean(selection_time)*1000\n",
    "    average_selection.append(average_time_selection_sort)\n",
    "    #print(f\"Average time for Selection Sort on Input Size {array} : {average_time_selection_sort}\")\n",
    "        \n",
    "#print out the array containing the average run for all input sizes, cross check against pandas dataframe for testing   \n",
    "print(f\"Average time Bubble {average_bubble}\")\n",
    "print(f\"Average time Merge {average_merge}\")\n",
    "print(f\"Average time Counting{average_counting}\")\n",
    "print(f\"Average time Insertion {average_insertion}\")\n",
    "print(f\"Average time Selection {average_selection}\")\n",
    "\n",
    "#Next step to create pandas dataframe"
   ]
  },
  {
   "cell_type": "markdown",
   "metadata": {},
   "source": [
    "#### 6.2 Create a pandas dataframe"
   ]
  },
  {
   "cell_type": "code",
   "execution_count": 12,
   "metadata": {},
   "outputs": [],
   "source": [
    "#pandas.DataFrame: https://pandas.pydata.org/pandas-docs/stable/generated/pandas.DataFrame.html\n",
    "df_average_times = pd.DataFrame() #create a pandas dataframe\n",
    "#add columns to the pandas dataframe\n",
    "df_average_times['Input Size'] = testing_arrays #the array of input szes will be the first column\n",
    "df_average_times['Bubble Sort'] = average_bubble #the average run times for all sorting algorithms will be next columns \n",
    "df_average_times['Merge Sort'] = average_merge\n",
    "df_average_times['Counting Sort'] = average_counting\n",
    "df_average_times['Insertion Sort'] = average_insertion\n",
    "df_average_times['Selection Sort'] = average_selection\n",
    "#pandas.DataFrame.set_index: https://pandas.pydata.org/pandas-docs/stable/reference/api/pandas.DataFrame.set_index.html\n",
    "df_average_times.set_index('Input Size', inplace=True) #set the index as the input size \n",
    "#df_average_times.round(3) show dataframe for testing, comment out\n",
    "#display the dataframe & round to 3 decimal places: https://www.geeksforgeeks.org/python-pandas-dataframe-round/\n",
    "#https://pandas.pydata.org/pandas-docs/stable/reference/api/pandas.DataFrame.round.html"
   ]
  },
  {
   "cell_type": "markdown",
   "metadata": {},
   "source": [
    "#### 6.3 Transpose the pandas dataframe and display with average times rounded to 3 decimal places"
   ]
  },
  {
   "cell_type": "code",
   "execution_count": 13,
   "metadata": {},
   "outputs": [
    {
     "data": {
      "text/html": [
       "<div>\n",
       "<style scoped>\n",
       "    .dataframe tbody tr th:only-of-type {\n",
       "        vertical-align: middle;\n",
       "    }\n",
       "\n",
       "    .dataframe tbody tr th {\n",
       "        vertical-align: top;\n",
       "    }\n",
       "\n",
       "    .dataframe thead th {\n",
       "        text-align: right;\n",
       "    }\n",
       "</style>\n",
       "<table border=\"1\" class=\"dataframe\">\n",
       "  <thead>\n",
       "    <tr style=\"text-align: right;\">\n",
       "      <th>Input Size</th>\n",
       "      <th>100</th>\n",
       "      <th>250</th>\n",
       "      <th>500</th>\n",
       "      <th>750</th>\n",
       "      <th>1000</th>\n",
       "      <th>1250</th>\n",
       "      <th>2500</th>\n",
       "      <th>3750</th>\n",
       "      <th>5000</th>\n",
       "      <th>7500</th>\n",
       "      <th>8750</th>\n",
       "      <th>10000</th>\n",
       "    </tr>\n",
       "  </thead>\n",
       "  <tbody>\n",
       "    <tr>\n",
       "      <th>Bubble Sort</th>\n",
       "      <td>2.396</td>\n",
       "      <td>14.477</td>\n",
       "      <td>63.799</td>\n",
       "      <td>152.061</td>\n",
       "      <td>293.139</td>\n",
       "      <td>467.964</td>\n",
       "      <td>1958.423</td>\n",
       "      <td>4298.622</td>\n",
       "      <td>7725.367</td>\n",
       "      <td>18003.876</td>\n",
       "      <td>23670.325</td>\n",
       "      <td>31532.211</td>\n",
       "    </tr>\n",
       "    <tr>\n",
       "      <th>Merge Sort</th>\n",
       "      <td>0.799</td>\n",
       "      <td>2.396</td>\n",
       "      <td>5.491</td>\n",
       "      <td>8.387</td>\n",
       "      <td>12.180</td>\n",
       "      <td>17.174</td>\n",
       "      <td>32.948</td>\n",
       "      <td>52.118</td>\n",
       "      <td>73.883</td>\n",
       "      <td>124.305</td>\n",
       "      <td>133.791</td>\n",
       "      <td>161.746</td>\n",
       "    </tr>\n",
       "    <tr>\n",
       "      <th>Counting Sort</th>\n",
       "      <td>0.100</td>\n",
       "      <td>0.200</td>\n",
       "      <td>0.400</td>\n",
       "      <td>0.700</td>\n",
       "      <td>0.499</td>\n",
       "      <td>0.699</td>\n",
       "      <td>1.298</td>\n",
       "      <td>1.397</td>\n",
       "      <td>1.997</td>\n",
       "      <td>3.495</td>\n",
       "      <td>3.693</td>\n",
       "      <td>4.593</td>\n",
       "    </tr>\n",
       "    <tr>\n",
       "      <th>Insertion Sort</th>\n",
       "      <td>1.397</td>\n",
       "      <td>7.489</td>\n",
       "      <td>33.847</td>\n",
       "      <td>78.676</td>\n",
       "      <td>152.960</td>\n",
       "      <td>248.708</td>\n",
       "      <td>1070.294</td>\n",
       "      <td>2260.750</td>\n",
       "      <td>4102.358</td>\n",
       "      <td>9830.461</td>\n",
       "      <td>12565.865</td>\n",
       "      <td>16679.230</td>\n",
       "    </tr>\n",
       "    <tr>\n",
       "      <th>Selection Sort</th>\n",
       "      <td>1.098</td>\n",
       "      <td>6.390</td>\n",
       "      <td>28.755</td>\n",
       "      <td>66.196</td>\n",
       "      <td>123.108</td>\n",
       "      <td>194.995</td>\n",
       "      <td>827.600</td>\n",
       "      <td>1764.565</td>\n",
       "      <td>3144.462</td>\n",
       "      <td>7748.730</td>\n",
       "      <td>9805.700</td>\n",
       "      <td>12997.496</td>\n",
       "    </tr>\n",
       "  </tbody>\n",
       "</table>\n",
       "</div>"
      ],
      "text/plain": [
       "Input Size      100     250     500      750      1000     1250      2500   \\\n",
       "Bubble Sort     2.396  14.477  63.799  152.061  293.139  467.964  1958.423   \n",
       "Merge Sort      0.799   2.396   5.491    8.387   12.180   17.174    32.948   \n",
       "Counting Sort   0.100   0.200   0.400    0.700    0.499    0.699     1.298   \n",
       "Insertion Sort  1.397   7.489  33.847   78.676  152.960  248.708  1070.294   \n",
       "Selection Sort  1.098   6.390  28.755   66.196  123.108  194.995   827.600   \n",
       "\n",
       "Input Size         3750      5000       7500       8750       10000  \n",
       "Bubble Sort     4298.622  7725.367  18003.876  23670.325  31532.211  \n",
       "Merge Sort        52.118    73.883    124.305    133.791    161.746  \n",
       "Counting Sort      1.397     1.997      3.495      3.693      4.593  \n",
       "Insertion Sort  2260.750  4102.358   9830.461  12565.865  16679.230  \n",
       "Selection Sort  1764.565  3144.462   7748.730   9805.700  12997.496  "
      ]
     },
     "execution_count": 13,
     "metadata": {},
     "output_type": "execute_result"
    }
   ],
   "source": [
    "#transpose() dataframe can be accessed with the property T\n",
    "df_average_times.round(3).T\n",
    "# transpose dataframe: https://pandas.pydata.org/pandas-docs/stable/reference/api/pandas.DataFrame.transpose.html\n",
    "# https://www.geeksforgeeks.org/python-pandas-dataframe-transpose/\n",
    "#round dataframe output to 3 decimal places: https://www.geeksforgeeks.org/python-pandas-dataframe-round/"
   ]
  },
  {
   "cell_type": "markdown",
   "metadata": {},
   "source": [
    "#### 6.4 Send the data from the pandas dataframe to a csv file"
   ]
  },
  {
   "cell_type": "code",
   "execution_count": 14,
   "metadata": {},
   "outputs": [],
   "source": [
    "df_average_times.round(3).to_csv('Benchmark_Results.csv') \n",
    "#send data from dataframe to a csv file: https://pandas.pydata.org/pandas-docs/stable/reference/api/pandas.DataFrame.to_csv.html"
   ]
  },
  {
   "cell_type": "markdown",
   "metadata": {},
   "source": [
    "#### 6.5 Plot the data"
   ]
  },
  {
   "cell_type": "code",
   "execution_count": 15,
   "metadata": {},
   "outputs": [
    {
     "data": {
      "image/png": "[encoded data removed]",
      "text/plain": [
       "<Figure size 1440x720 with 1 Axes>"
      ]
     },
     "metadata": {
      "needs_background": "light"
     },
     "output_type": "display_data"
    }
   ],
   "source": [
    "#Plot the average run times from the pandas dataframe\n",
    "#matplotlib pyplot documentation: https://matplotlib.org/3.2.1/api/_as_gen/matplotlib.pyplot.html\n",
    "\n",
    "# rc params to customize plot appearance: https://matplotlib.org/tutorials/introductory/customizing.html\n",
    "plt.rcParams['figure.figsize'] = (20, 10)\n",
    "plt.rcParams['lines.linewidth'] = 2.5\n",
    "plt.rcParams['font.size'] = 15.0\n",
    "plt.rcParams['font.weight'] = 'bold'\n",
    "\n",
    "# add the columns of data to the plot from the pandas dataframe \n",
    "#pyplot;plot: https://matplotlib.org/3.2.1/api/_as_gen/matplotlib.pyplot.plot.html#matplotlib.pyplot.plot\n",
    "plt.plot(df_average_times['Bubble Sort'], marker='o', markersize=10)  #add marker to show each input size on the lines\n",
    "plt.plot(df_average_times['Merge Sort'], marker='o', markersize=10)\n",
    "plt.plot(df_average_times['Counting Sort'], marker='o', markersize=10)\n",
    "plt.plot(df_average_times['Insertion Sort'], marker='o', markersize=10)\n",
    "plt.plot(df_average_times['Selection Sort'], marker='o', markersize=10)\n",
    "\n",
    "# add a title to the plot: https://matplotlib.org/3.2.1/api/_as_gen/matplotlib.pyplot.title.html#matplotlib.pyplot.title\n",
    "plt.title('Average run time of sorting algorithms over ten runs of varying Input Sizes n')\n",
    "\n",
    "# add labels to x and y axis : https://matplotlib.org/3.2.1/api/_as_gen/matplotlib.pyplot.ylabel.html#matplotlib.pyplot.ylabel\n",
    "plt.xlabel('Input Size n')\n",
    "plt.ylabel('Average of ten runs in millseconds')\n",
    "\n",
    "# add a grid: https://matplotlib.org/3.2.1/api/_as_gen/matplotlib.pyplot.grid.html#matplotlib.pyplot.grid\n",
    "plt.grid()\n",
    "# add a legend: https://matplotlib.org/3.2.1/api/_as_gen/matplotlib.pyplot.legend.html#matplotlib.pyplot.legend\n",
    "plt.legend()\n",
    "# pyplot.show to display the plot: https://matplotlib.org/3.2.1/api/_as_gen/matplotlib.pyplot.show.html#matplotlib.pyplot.show\n",
    "plt.show()"
   ]
  }
 ],
 "metadata": {
  "kernelspec": {
   "display_name": "Python 3",
   "language": "python",
   "name": "python3"
  },
  "language_info": {
   "codemirror_mode": {
    "name": "ipython",
    "version": 3
   },
   "file_extension": ".py",
   "mimetype": "text/x-python",
   "name": "python",
   "nbconvert_exporter": "python",
   "pygments_lexer": "ipython3",
   "version": "3.7.1"
  }
 },
 "nbformat": 4,
 "nbformat_minor": 2
}
