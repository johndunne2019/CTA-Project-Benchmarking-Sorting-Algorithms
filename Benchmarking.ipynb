{
 "cells": [
  {
   "cell_type": "markdown",
   "metadata": {},
   "source": [
    "### I have included in this notebook the code for the five sorting algorithms to be implemented in this project. Sourced from online resources which are provided and added my own comments.\n",
    "\n",
    "### Followed by benchmarking section where all five sorting algotihms are ran ten times each on randomly generated arrays and the average time of the the ten runs will be output."
   ]
  },
  {
   "cell_type": "markdown",
   "metadata": {},
   "source": [
    "### 1. Bubble Sort\n",
    "   "
   ]
  },
  {
   "cell_type": "code",
   "execution_count": 1,
   "metadata": {},
   "outputs": [],
   "source": [
    "# Code sourced from: https://runestone.academy/runestone/books/published/pythonds/SortSearch/TheBubbleSort.html\n",
    "# Added my own comments\n",
    "# Bubble Sort has the capability to stop running when the list becomes sorted\n",
    "\n",
    "# Bubble sort function is created taking one input\n",
    "def bubbleSort(alist):\n",
    "    # A variable called exchanges is created and set to true \n",
    "    exchanges = True\n",
    "    # the variable passnum is set to the size of the input array minus 1 \n",
    "    passnum = len(alist)-1\n",
    "    # while loop executes while there is more than one element in the array and there are exchanges to be made\n",
    "    while passnum > 0 and exchanges:\n",
    "        # exchanges set to false at beginning of the loop\n",
    "        exchanges = False\n",
    "        # An inner for loop traverses each element in passnum array\n",
    "        for i in range(passnum):\n",
    "            # if the element on the left is greater than the element on the right then we must swap positions and set exchanges to boolean true\n",
    "            if alist[i]>alist[i+1]:\n",
    "                exchanges = True\n",
    "                # the element on the left is stored in a temporary variable\n",
    "                temp = alist[i]\n",
    "                # element on the left set equal to the element on its right\n",
    "                alist[i] = alist[i+1]\n",
    "                # the element that was originally on the left is moved from temp storage to the right position\n",
    "                alist[i+1] = temp\n",
    "                # Without the temp storage the left would be overwritten \n",
    "        # the new value od passnum is the previous array length minus 1 as we one less element to sort\n",
    "        passnum = passnum-1"
   ]
  },
  {
   "cell_type": "markdown",
   "metadata": {},
   "source": [
    "**Testing the Bubble Sort**\n",
    "\n",
    "Commented out"
   ]
  },
  {
   "cell_type": "code",
   "execution_count": 2,
   "metadata": {},
   "outputs": [],
   "source": [
    "#alist= [54,26,93,17,77,31,44,55,20]\n",
    "#bubbleSort(alist)\n",
    "#print(alist)"
   ]
  },
  {
   "cell_type": "markdown",
   "metadata": {},
   "source": [
    "**Testing with random array using example provided in project specification**\n",
    "\n",
    "Commented out"
   ]
  },
  {
   "cell_type": "code",
   "execution_count": 3,
   "metadata": {},
   "outputs": [],
   "source": [
    "#def random_array(n):\n",
    "    # empty array created to hold results\n",
    "    #array = []\n",
    "    # for loop will loop through input size to generate input size n integers\n",
    "    #for i in range(0, n, 1):\n",
    "        # randint generates random integers in a specified range. I have specified the upper bound of 99\n",
    "        #array.append(np.random.randint(0, 100))\n",
    "    #return array\n",
    "\n",
    "# random array generated\n",
    "#alist = random_array(500)\n",
    "# start time is the current time when this line is executed\n",
    "#start_time = time.time()\n",
    "# Bubble sort function called \n",
    "#bubbleSort(alist)\n",
    "# merge sort function called\n",
    "#mergeSort(alist)\n",
    "# insertion sort called\n",
    "#insertionSort(alist)\n",
    "# Sorted list will be printed to the console\n",
    "# commented out the array to be printed as I only need the time \n",
    "#print(alist)\n",
    "# end time is the current time when algorithm has finished running\n",
    "#end_time=time.time()\n",
    "# end time minus start time will show time taken for algorithm to execute\n",
    "#time_elapsed= end_time - start_time\n",
    "#print(round(time_elapsed, 3))"
   ]
  },
  {
   "cell_type": "markdown",
   "metadata": {},
   "source": [
    "### 2. Merge Sort"
   ]
  },
  {
   "cell_type": "code",
   "execution_count": 4,
   "metadata": {},
   "outputs": [],
   "source": [
    "# Code sourced from: https://runestone.academy/runestone/books/published/pythonds/SortSearch/TheMergeSort.html\n",
    "# Added my own comments\n",
    "\n",
    "# Merge sort function created taking a list as input\n",
    "# First half of the code concerned with splitting the lists into sub-lists\n",
    "def mergeSort(alist):\n",
    "    # print statement prints out the result of splitting the list into sub-lists, will comment out later\n",
    "    #print(\"Splitting \",alist)\n",
    "    # if statement will execute on lists with more than one element\n",
    "    if len(alist)>1:\n",
    "        # mid point of the list found \n",
    "        mid = len(alist)//2\n",
    "        # list sliced into left and right halves or sub-lists\n",
    "        # left half contains from start of list to mid point and right half from mid point to the end of list\n",
    "        lefthalf = alist[:mid]\n",
    "        righthalf = alist[mid:]\n",
    "        # mergeSort function is called on both halves to sort the lists\n",
    "        mergeSort(lefthalf)\n",
    "        mergeSort(righthalf)\n",
    "        # The sub-lists are now sorted\n",
    "\n",
    "        # From here on the code is concerned with merging the smaller sorted lists into a final sorted list\n",
    "        i=0\n",
    "        j=0\n",
    "        k=0\n",
    "        # While loops executes as long as both sub-lists contain at least one element\n",
    "        while i < len(lefthalf) and j < len(righthalf):\n",
    "            # if the element in the left half is less or equal to than the element in the right half it is stored in alist k\n",
    "            # this ensures the algorithm is stable as for elements with equal sort keys the element for the left half is places on the left\n",
    "            if lefthalf[i] <= righthalf[j]:\n",
    "                alist[k]=lefthalf[i]\n",
    "                i=i+1\n",
    "            # else statement executes if element on left half is not less than or equal to element in right half\n",
    "            else:\n",
    "                alist[k]=righthalf[j]\n",
    "                j=j+1\n",
    "            k=k+1\n",
    "            # the values of i, j and k are incremented after the execution of the relevant section of code\n",
    "        # The above while loop will execute as long as both sub-lits contain at least one element\n",
    "        # In the case of uneven numbers then one sub-list may have an element left and the other wll be empty\n",
    "        # Two additional while loops are added to deal with these cases\n",
    "\n",
    "        # This while loop will execute as long as there is an element present in the left half sub-list\n",
    "        while i < len(lefthalf):\n",
    "            alist[k]=lefthalf[i]\n",
    "            i=i+1\n",
    "            k=k+1\n",
    "        # This while loop will execute as long as there is an element present in the right half of the sub-list\n",
    "        while j < len(righthalf):\n",
    "            alist[k]=righthalf[j]\n",
    "            j=j+1\n",
    "            k=k+1\n",
    "    # print statement that shows the merging process in progress, will comment out later\n",
    "   # print(\"Merging \",alist)"
   ]
  },
  {
   "cell_type": "markdown",
   "metadata": {},
   "source": [
    "**Testing Merge Sort**"
   ]
  },
  {
   "cell_type": "code",
   "execution_count": 5,
   "metadata": {},
   "outputs": [],
   "source": [
    "# Testing the algorithm\n",
    "#alist = [54,26,93,17,77,31,44,55,20]\n",
    "#mergeSort(alist)\n",
    "#print(alist)"
   ]
  },
  {
   "cell_type": "markdown",
   "metadata": {},
   "source": [
    "### 3. Counting Sort"
   ]
  },
  {
   "cell_type": "code",
   "execution_count": 6,
   "metadata": {},
   "outputs": [],
   "source": [
    "#Code sourced from: https://www.w3resource.com/python-exercises/data-structures-and-algorithms/python-search-and-sorting-exercise-10.php\n",
    "# Added my own comments\n",
    "# I found it hard to find good examples of this sorting algorithm online \n",
    "# I had to change the function to only take an array as input as I wont be entering a max val when benchmarking \n",
    "\n",
    "# In the source code the function accepts:\n",
    "#def counting_sort(array1, max_val):\n",
    "    #m = max_val + 1\n",
    "\n",
    "def counting_sort(array1):\n",
    "# I changed the sourced code to have a set max val of 100 \n",
    "# I chose this as I am generating random integers up to 100 in the benchmarking\n",
    "    m = 100 + 1   # array created of size of range on input plus one \n",
    "    count = [0] * m                \n",
    "    \n",
    "    for a in array1:\n",
    "    # for loop loops through input array and counts number of occurrences \n",
    "    # the count is stored used a counter\n",
    "        count[a] += 1             \n",
    "    i = 0\n",
    "    for a in range(m):            \n",
    "        for c in range(count[a]):  \n",
    "            array1[i] = a\n",
    "            i += 1\n",
    "    return array1\n"
   ]
  },
  {
   "cell_type": "markdown",
   "metadata": {},
   "source": [
    "**Testing Counting Sort**"
   ]
  },
  {
   "cell_type": "code",
   "execution_count": 7,
   "metadata": {},
   "outputs": [],
   "source": [
    "#print(counting_sort( [1, 2, 7, 3, 2, 1, 4, 2, 3, 2, 1], 7 ))"
   ]
  },
  {
   "cell_type": "markdown",
   "metadata": {},
   "source": [
    "### 4. Insertion Sort"
   ]
  },
  {
   "cell_type": "code",
   "execution_count": 8,
   "metadata": {},
   "outputs": [],
   "source": [
    "# Code sourced from: https://runestone.academy/runestone/books/published/pythonds/SortSearch/TheInsertionSort.html\n",
    "#Added my own comments\n",
    "\n",
    "# Create an insertion sort function\n",
    "def insertionSort(alist):\n",
    "    # for loop to iterate over the list from index 1 to the end of the list\n",
    "    # we need n-1 passes to sort an input size n \n",
    "   for index in range(1,len(alist)):\n",
    "    # the position of the current item in the list is stored as currentvalue\n",
    "     currentvalue = alist[index]\n",
    "     position = index\n",
    "    # while loop checks the index of the element is greater than index zero\n",
    "    # The current element is compared to the element to its left\n",
    "    # if the position to its left is less than a shift operation will be made\n",
    "     while position>0 and alist[position-1]>currentvalue:\n",
    "         # this is the shift operation that moves the element back at each iteration of the while loop\n",
    "         # an element on the right that is less than an element on the left when compared is shifted to the left\n",
    "         alist[position]=alist[position-1]\n",
    "         # Note the variable position holds the new value of the sorted sub list\n",
    "         # This is not a complete exchange\n",
    "         position = position-1\n",
    "    # The sorted sublist is held in the variable position and this is now set equal to alist\n",
    "     alist[position]=currentvalue"
   ]
  },
  {
   "cell_type": "markdown",
   "metadata": {},
   "source": [
    "**Testing Insertion Sort**"
   ]
  },
  {
   "cell_type": "code",
   "execution_count": 9,
   "metadata": {},
   "outputs": [],
   "source": [
    "# Testing the algorithm\n",
    "#alist = [54,26,93,17,77,31,44,55,20]\n",
    "#insertionSort(alist)\n",
    "#print(alist)"
   ]
  },
  {
   "cell_type": "markdown",
   "metadata": {},
   "source": [
    "### 5. Selection Sort"
   ]
  },
  {
   "cell_type": "code",
   "execution_count": 10,
   "metadata": {},
   "outputs": [],
   "source": [
    "#sourced from: https://stackabuse.com/sorting-algorithms-in-python/#selectionsort\n",
    "#Have to add my own comments\n",
    "\n",
    "def selection_sort(nums):\n",
    "    # This value of i corresponds to how many values were sorted\n",
    "    for i in range(len(nums)):\n",
    "        # We assume that the first item of the unsorted segment is the smallest\n",
    "        lowest_value_index = i\n",
    "        # This loop iterates over the unsorted items\n",
    "        for j in range(i + 1, len(nums)):\n",
    "            if nums[j] < nums[lowest_value_index]:\n",
    "                lowest_value_index = j\n",
    "        # Swap values of the lowest unsorted element with the first unsorted\n",
    "        # element\n",
    "        nums[i], nums[lowest_value_index] = nums[lowest_value_index], nums[i]\n",
    "\n",
    "\n"
   ]
  },
  {
   "cell_type": "code",
   "execution_count": 11,
   "metadata": {},
   "outputs": [],
   "source": [
    "# Testing the algorithm\n",
    "#random_list_of_nums = [12, 8, 3, 20, 11]\n",
    "#selection_sort(random_list_of_nums)\n",
    "#print(random_list_of_nums)"
   ]
  },
  {
   "cell_type": "markdown",
   "metadata": {},
   "source": [
    "### 6. Benchmarking the five sorting algorithms\n",
    "\n",
    "**Import libraries**"
   ]
  },
  {
   "cell_type": "code",
   "execution_count": 31,
   "metadata": {},
   "outputs": [],
   "source": [
    "import time # built in python time module\n",
    "import numpy as np \n",
    "import pandas as pd"
   ]
  },
  {
   "cell_type": "markdown",
   "metadata": {},
   "source": [
    "**Create a pandas DataFrame which will be used to hold results**"
   ]
  },
  {
   "cell_type": "code",
   "execution_count": 32,
   "metadata": {},
   "outputs": [],
   "source": [
    "#pandas.dataframe used to created a pandas dataframe\n",
    "#data = pd.DataFrame(columns = [\"Size\", \"Bubble Sort\", \"Merge Sort\", \"Insertion Sort\"])\n",
    "\n",
    "# display the headings\n",
    "#data.head()"
   ]
  },
  {
   "cell_type": "code",
   "execution_count": 34,
   "metadata": {},
   "outputs": [
    {
     "data": {
      "text/html": [
       "<div>\n",
       "<style scoped>\n",
       "    .dataframe tbody tr th:only-of-type {\n",
       "        vertical-align: middle;\n",
       "    }\n",
       "\n",
       "    .dataframe tbody tr th {\n",
       "        vertical-align: top;\n",
       "    }\n",
       "\n",
       "    .dataframe thead th {\n",
       "        text-align: right;\n",
       "    }\n",
       "</style>\n",
       "<table border=\"1\" class=\"dataframe\">\n",
       "  <thead>\n",
       "    <tr style=\"text-align: right;\">\n",
       "      <th></th>\n",
       "      <th>100</th>\n",
       "      <th>250</th>\n",
       "      <th>500</th>\n",
       "      <th>750</th>\n",
       "      <th>1000</th>\n",
       "      <th>2500</th>\n",
       "      <th>5000</th>\n",
       "      <th>7500</th>\n",
       "      <th>10000</th>\n",
       "    </tr>\n",
       "  </thead>\n",
       "  <tbody>\n",
       "    <tr>\n",
       "      <th>Bubble Sort</th>\n",
       "      <td>NaN</td>\n",
       "      <td>NaN</td>\n",
       "      <td>NaN</td>\n",
       "      <td>NaN</td>\n",
       "      <td>NaN</td>\n",
       "      <td>NaN</td>\n",
       "      <td>NaN</td>\n",
       "      <td>NaN</td>\n",
       "      <td>NaN</td>\n",
       "    </tr>\n",
       "    <tr>\n",
       "      <th>Merge Sort</th>\n",
       "      <td>NaN</td>\n",
       "      <td>NaN</td>\n",
       "      <td>NaN</td>\n",
       "      <td>NaN</td>\n",
       "      <td>NaN</td>\n",
       "      <td>NaN</td>\n",
       "      <td>NaN</td>\n",
       "      <td>NaN</td>\n",
       "      <td>NaN</td>\n",
       "    </tr>\n",
       "    <tr>\n",
       "      <th>Counting Sort</th>\n",
       "      <td>NaN</td>\n",
       "      <td>NaN</td>\n",
       "      <td>NaN</td>\n",
       "      <td>NaN</td>\n",
       "      <td>NaN</td>\n",
       "      <td>NaN</td>\n",
       "      <td>NaN</td>\n",
       "      <td>NaN</td>\n",
       "      <td>NaN</td>\n",
       "    </tr>\n",
       "    <tr>\n",
       "      <th>Selection Sort</th>\n",
       "      <td>NaN</td>\n",
       "      <td>NaN</td>\n",
       "      <td>NaN</td>\n",
       "      <td>NaN</td>\n",
       "      <td>NaN</td>\n",
       "      <td>NaN</td>\n",
       "      <td>NaN</td>\n",
       "      <td>NaN</td>\n",
       "      <td>NaN</td>\n",
       "    </tr>\n",
       "    <tr>\n",
       "      <th>Insertion Sort</th>\n",
       "      <td>NaN</td>\n",
       "      <td>NaN</td>\n",
       "      <td>NaN</td>\n",
       "      <td>NaN</td>\n",
       "      <td>NaN</td>\n",
       "      <td>NaN</td>\n",
       "      <td>NaN</td>\n",
       "      <td>NaN</td>\n",
       "      <td>NaN</td>\n",
       "    </tr>\n",
       "  </tbody>\n",
       "</table>\n",
       "</div>"
      ],
      "text/plain": [
       "                100  250  500  750 1000 2500 5000 7500 10000\n",
       "Bubble Sort     NaN  NaN  NaN  NaN  NaN  NaN  NaN  NaN   NaN\n",
       "Merge Sort      NaN  NaN  NaN  NaN  NaN  NaN  NaN  NaN   NaN\n",
       "Counting Sort   NaN  NaN  NaN  NaN  NaN  NaN  NaN  NaN   NaN\n",
       "Selection Sort  NaN  NaN  NaN  NaN  NaN  NaN  NaN  NaN   NaN\n",
       "Insertion Sort  NaN  NaN  NaN  NaN  NaN  NaN  NaN  NaN   NaN"
      ]
     },
     "execution_count": 34,
     "metadata": {},
     "output_type": "execute_result"
    }
   ],
   "source": [
    "cols = [\"100\", \"250\", \"500\", \"750\", \"1000\", \"1250\" \"2500\", \"3750\" \"5000\", \"7500\", \"10000\"]\n",
    "indexes = [\"Bubble Sort\", \"Merge Sort\", \"Counting Sort\", \"Selection Sort\", \"Insertion Sort\"]\n",
    "df = pd.DataFrame(index=indexes,columns=cols)\n",
    "df"
   ]
  },
  {
   "cell_type": "code",
   "execution_count": 15,
   "metadata": {},
   "outputs": [],
   "source": [
    "#data[\"Size\"] = (5, 10, 20, 30, 50) # test on small data size \n",
    "#df"
   ]
  },
  {
   "cell_type": "markdown",
   "metadata": {},
   "source": [
    "**Generate random arrays of numbers to be used in the benchmarking**\n",
    "\n",
    "**Timing Bubble Sort**"
   ]
  },
  {
   "cell_type": "code",
   "execution_count": 16,
   "metadata": {},
   "outputs": [
    {
     "name": "stdout",
     "output_type": "stream",
     "text": [
      "Size of array: 100\n",
      "0.0010030269622802734\n",
      "0.00099945068359375\n",
      "0.0010027885437011719\n",
      "0.0009975433349609375\n",
      "0.0009968280792236328\n",
      "0.0009989738464355469\n",
      "0.0019969940185546875\n",
      "0.0009961128234863281\n",
      "0.001996755599975586\n",
      "0.001992464065551758\n",
      "Average time: 0.0012980937957763673\n",
      "Size of array: 250\n",
      "0.007984638214111328\n",
      "0.006988525390625\n",
      "0.006987094879150391\n",
      "0.007986783981323242\n",
      "0.007988452911376953\n",
      "0.00798940658569336\n",
      "0.008983612060546875\n",
      "0.007990121841430664\n",
      "0.006990671157836914\n",
      "0.007988214492797852\n",
      "Average time: 0.007787752151489258\n",
      "Size of array: 500\n",
      "0.03294873237609863\n",
      "0.045928239822387695\n",
      "0.05391716957092285\n",
      "0.054917097091674805\n",
      "0.03693866729736328\n",
      "0.03494596481323242\n",
      "0.03494691848754883\n",
      "0.03594565391540527\n",
      "0.036943912506103516\n",
      "0.03694272041320801\n",
      "Average time: 0.040437507629394534\n",
      "Size of array: 750\n",
      "0.07987475395202637\n",
      "0.08187174797058105\n",
      "0.0898582935333252\n",
      "0.08286929130554199\n",
      "0.10083937644958496\n",
      "0.07588028907775879\n",
      "0.09684872627258301\n",
      "0.08586573600769043\n",
      "0.09684920310974121\n",
      "0.10483193397521973\n",
      "Average time: 0.08955893516540528\n",
      "Size of array: 1000\n",
      "0.1517624855041504\n",
      "0.15675640106201172\n",
      "0.15675640106201172\n",
      "0.16773700714111328\n",
      "0.17373013496398926\n",
      "0.2126631736755371\n",
      "0.17472124099731445\n",
      "0.17671918869018555\n",
      "0.19569158554077148\n",
      "0.16074514389038086\n",
      "Average time: 0.1727282762527466\n",
      "Size of array: 2500\n",
      "1.0233960151672363\n",
      "1.2919669151306152\n",
      "1.1782572269439697\n",
      "1.2220911979675293\n",
      "1.5795109272003174\n",
      "1.002427577972412\n",
      "0.9864518642425537\n",
      "1.008408784866333\n",
      "1.029383897781372\n",
      "1.0383729934692383\n",
      "Average time: 1.1360267400741577\n",
      "Size of array: 5000\n",
      "4.124522686004639\n",
      "5.111972093582153\n",
      "4.753538131713867\n",
      "4.247324228286743\n",
      "4.261124610900879\n",
      "4.180434465408325\n",
      "4.025681257247925\n",
      "6.63212251663208\n",
      "7.651659727096558\n",
      "6.335541486740112\n",
      "Average time: 5.132392120361328\n",
      "Size of array: 7500\n",
      "17.861973762512207\n",
      "19.43640398979187\n",
      "15.220360040664673\n",
      "16.056838989257812\n",
      "15.595502853393555\n",
      "18.578174352645874\n",
      "21.039558172225952\n",
      "18.484971284866333\n",
      "11.761258840560913\n",
      "10.7251558303833\n",
      "Average time: 16.47601981163025\n",
      "Size of array: 10000\n",
      "22.154189348220825\n",
      "17.741135835647583\n",
      "17.69089913368225\n",
      "19.0858736038208\n",
      "19.701058626174927\n",
      "18.437385082244873\n",
      "18.082966089248657\n",
      "18.831425189971924\n",
      "17.048337697982788\n",
      "16.79263162612915\n",
      "Average time: 18.556590223312377\n"
     ]
    }
   ],
   "source": [
    "#numpy.random.randint: https://docs.scipy.org/doc/numpy-1.16.0/reference/routines.random.html#simple-random-data\n",
    "#similar to example provided in the project specificaton but I will use numpy.random  instead of the Python random module\n",
    "\n",
    "# Create a function to be used to generate random integers from numpy.random\n",
    "def random_array(n):\n",
    "    # empty array created to hold results\n",
    "    array = []\n",
    "    # for loop will loop through input size to generate input size n integers\n",
    "    for i in range(0, n, 1):\n",
    "        # randint generates random integers in a specified range. I have specified the upper bound of 99\n",
    "        array.append(np.random.randint(0, 100))\n",
    "    return array\n",
    "\n",
    "# I need to generate a random array for each input size I want to test the algorithms on\n",
    "# calling the random array function within a nested for loop could work\n",
    "\n",
    " #declare array sizes for testing\n",
    "testing_arrays = [100, 250, 500, 750, 1000, 1250, 2500, 3750, 5000, 7500, 10000] \n",
    "# for loop to loop through the sizes contained in array\n",
    "for array in range(len(testing_arrays)):\n",
    "    store_results_in_array = []\n",
    "    # added print statement for testing\n",
    "    print(\"Size of array: \" + str(testing_arrays[array]))\n",
    "    # create container to hols results??\n",
    "    #time_of_each_run = []\n",
    "    # I want the loop to run 10 ten times calling the random array generation function on each testing array size\n",
    "    for d in range(10): \n",
    "        # I will call the new arrays benchemark array\n",
    "        benchmark_array= random_array(testing_arrays[array])\n",
    "        #print out arrays to check they generate ok\n",
    "        #print(benchmark_array)\n",
    "        #use the python time module to time each run of the algorithm\n",
    "        #using example from project specification as a guide\n",
    "        start_time = time.time()\n",
    "        #call sorting algoithm here\n",
    "        #run a test for all algorithms in my project to see everything looks ok\n",
    "        bubbleSort(benchmark_array)\n",
    "        #insertionSort(benchmark_array)\n",
    "        #mergeSort(benchmark_array)\n",
    "        #selection_sort(benchmark_array)\n",
    "        #counting_sort(benchmark_array)\n",
    "        finish_time = time.time()\n",
    "        time_elapsed= finish_time - start_time\n",
    "        store_results_in_array.append(time_elapsed)\n",
    "        print(time_elapsed)\n",
    "        #time_of_each_run.append(time_elapsed)\n",
    "        #print(time_of_each_run)\n",
    "        #average = np.mean(time_of_each_run)\n",
    "        #print(average)\n",
    "    average_time = np.mean(store_results_in_array)\n",
    "    print(\"Average time: \" + str(average_time))\n",
    "     df.iat[0,array] = round((average_time),3)\n",
    "  \n",
    "    # how to clone arrays https://stackoverflow.com/questions/2612802/how-to-clone-or-copy-a-list/2612815#2612815\n",
    "    # have to return to this\n",
    "\n",
    "# create an empty array to hold a set of arrays that I will generate for each input size in my dataset\n",
    "#new_array = []\n",
    "## I need to loop through the input sizes that are stored in the dataframe and assign that size of random integers to the new_array container\n",
    "#for benchmark_array_size in data[\"Size\"]:\n",
    "    # counter created\n",
    "    #index = 0\n",
    "    # the random_array function is called taking the size of inputs from the data set as input\n",
    "    #new_array.append(random_array(benchmark_array_size))\n",
    "    # counter incremented by 1 on each iteration\n",
    "   # index + 1\n",
    "\n",
    "    # test are the arrays created\n",
    "    #print(new_array)\n",
    "           \n",
    "      "
   ]
  },
  {
   "cell_type": "markdown",
   "metadata": {},
   "source": [
    "**Timing selection sort**"
   ]
  },
  {
   "cell_type": "code",
   "execution_count": 22,
   "metadata": {},
   "outputs": [
    {
     "name": "stdout",
     "output_type": "stream",
     "text": [
      "Average time: 0.0014961957931518555\n",
      "Average time: 0.007688331604003906\n",
      "Average time: 0.029952597618103028\n",
      "Average time: 0.0723872184753418\n",
      "Average time: 0.15004947185516357\n",
      "Average time: 0.7892590761184692\n",
      "Average time: 3.4457873582839964\n",
      "Average time: 7.5868388414382935\n",
      "Average time: 13.816592979431153\n"
     ]
    }
   ],
   "source": [
    "for array in range(len(testing_arrays)):\n",
    "    store_results_in_array = []\n",
    "    # added print statement for testing\n",
    "    print(\"Size of array: \" + str(testing_arrays[array]))\n",
    "    # I want the loop to run 10 ten times calling the random array generation function on each testing array size\n",
    "    for d in range(10): \n",
    "        # I will call the new arrays benchemark array\n",
    "        benchmark_array= random_array(testing_arrays[array])\n",
    "        #print out arrays to check they generate ok\n",
    "        #print(benchmark_array)\n",
    "        #use the python time module to time each run of the algorithm\n",
    "        #using example from project specification as a guide\n",
    "        start_time = time.time()\n",
    "        #call sorting algoithm here\n",
    "        selection_sort(benchmark_array)\n",
    "        finish_time = time.time()\n",
    "        time_elapsed= finish_time - start_time\n",
    "        store_results_in_array.append(time_elapsed)\n",
    "        #print(time_elapsed)\n",
    "   #numpy.mean: https://docs.scipy.org/doc/numpy-1.14.0/reference/generated/numpy.mean.html\n",
    "    average_time = np.mean(store_results_in_array)\n",
    "    print(\"Average time: \"+ str(average_time))\n",
    "    df.iat[3,array] = round((average_time),3)\n",
    "    #print(f\"The mean running time of input size: {testing_arrays[array]} rounded to 3 decimal places: {(round(average_time, 3))}\")"
   ]
  },
  {
   "cell_type": "markdown",
   "metadata": {},
   "source": [
    "**Timing Merge Sort**"
   ]
  },
  {
   "cell_type": "code",
   "execution_count": 38,
   "metadata": {},
   "outputs": [
    {
     "name": "stdout",
     "output_type": "stream",
     "text": [
      "Size of array: 100\n",
      "Average time: 0.0007979869842529297\n",
      "Size of array: 250\n",
      "Average time: 0.0033951520919799803\n",
      "Size of array: 500\n",
      "Average time: 0.006590795516967773\n",
      "Size of array: 750\n",
      "Average time: 0.010084271430969238\n",
      "Size of array: 1000\n",
      "Average time: 0.012880206108093262\n",
      "Size of array: 2500\n",
      "Average time: 0.03804023265838623\n",
      "Size of array: 5000\n",
      "Average time: 0.10383751392364501\n",
      "Size of array: 7500\n",
      "Average time: 0.12690069675445556\n",
      "Size of array: 10000\n",
      "Average time: 0.17093305587768554\n"
     ]
    }
   ],
   "source": [
    "for array in range(len(testing_arrays)):\n",
    "    store_results_in_array = []\n",
    "    # added print statement for testing\n",
    "    print(\"Size of array: \" + str(testing_arrays[array]))\n",
    "    # I want the loop to run 10 ten times calling the random array generation function on each testing array size\n",
    "    for d in range(10): \n",
    "        # I will call the new arrays benchemark array\n",
    "        benchmark_array= random_array(testing_arrays[array])\n",
    "        #print out arrays to check they generate ok\n",
    "        #print(benchmark_array)\n",
    "        #use the python time module to time each run of the algorithm\n",
    "        #using example from project specification as a guide\n",
    "        start_time = time.time()\n",
    "        #call sorting algoithm here\n",
    "        mergeSort(benchmark_array)\n",
    "        finish_time = time.time()\n",
    "        time_elapsed= finish_time - start_time\n",
    "        store_results_in_array.append(time_elapsed)\n",
    "        #print(time_elapsed)\n",
    "   #numpy.mean: https://docs.scipy.org/doc/numpy-1.14.0/reference/generated/numpy.mean.html\n",
    "    average_time = np.mean(store_results_in_array)\n",
    "    print(\"Average time: \"+ str(average_time))\n",
    "    df.iat[1,array] = round((average_time),3)\n",
    "    #print(f\"The mean running time of input size: {testing_arrays[array]} rounded to 3 decimal places: {(round(average_time, 3))}\")"
   ]
  },
  {
   "cell_type": "code",
   "execution_count": 39,
   "metadata": {},
   "outputs": [
    {
     "data": {
      "text/html": [
       "<div>\n",
       "<style scoped>\n",
       "    .dataframe tbody tr th:only-of-type {\n",
       "        vertical-align: middle;\n",
       "    }\n",
       "\n",
       "    .dataframe tbody tr th {\n",
       "        vertical-align: top;\n",
       "    }\n",
       "\n",
       "    .dataframe thead th {\n",
       "        text-align: right;\n",
       "    }\n",
       "</style>\n",
       "<table border=\"1\" class=\"dataframe\">\n",
       "  <thead>\n",
       "    <tr style=\"text-align: right;\">\n",
       "      <th></th>\n",
       "      <th>100</th>\n",
       "      <th>250</th>\n",
       "      <th>500</th>\n",
       "      <th>750</th>\n",
       "      <th>1000</th>\n",
       "      <th>2500</th>\n",
       "      <th>5000</th>\n",
       "      <th>7500</th>\n",
       "      <th>10000</th>\n",
       "    </tr>\n",
       "  </thead>\n",
       "  <tbody>\n",
       "    <tr>\n",
       "      <th>Bubble Sort</th>\n",
       "      <td>0.001</td>\n",
       "      <td>0.003</td>\n",
       "      <td>0.006</td>\n",
       "      <td>0.009</td>\n",
       "      <td>0.012</td>\n",
       "      <td>0.035</td>\n",
       "      <td>0.081</td>\n",
       "      <td>0.148</td>\n",
       "      <td>0.16</td>\n",
       "    </tr>\n",
       "    <tr>\n",
       "      <th>Merge Sort</th>\n",
       "      <td>0.001</td>\n",
       "      <td>0.003</td>\n",
       "      <td>0.007</td>\n",
       "      <td>0.01</td>\n",
       "      <td>0.013</td>\n",
       "      <td>0.038</td>\n",
       "      <td>0.104</td>\n",
       "      <td>0.127</td>\n",
       "      <td>0.171</td>\n",
       "    </tr>\n",
       "    <tr>\n",
       "      <th>Counting Sort</th>\n",
       "      <td>NaN</td>\n",
       "      <td>NaN</td>\n",
       "      <td>NaN</td>\n",
       "      <td>NaN</td>\n",
       "      <td>NaN</td>\n",
       "      <td>NaN</td>\n",
       "      <td>NaN</td>\n",
       "      <td>NaN</td>\n",
       "      <td>NaN</td>\n",
       "    </tr>\n",
       "    <tr>\n",
       "      <th>Selection Sort</th>\n",
       "      <td>NaN</td>\n",
       "      <td>NaN</td>\n",
       "      <td>NaN</td>\n",
       "      <td>NaN</td>\n",
       "      <td>NaN</td>\n",
       "      <td>NaN</td>\n",
       "      <td>NaN</td>\n",
       "      <td>NaN</td>\n",
       "      <td>NaN</td>\n",
       "    </tr>\n",
       "    <tr>\n",
       "      <th>Insertion Sort</th>\n",
       "      <td>NaN</td>\n",
       "      <td>NaN</td>\n",
       "      <td>NaN</td>\n",
       "      <td>NaN</td>\n",
       "      <td>NaN</td>\n",
       "      <td>NaN</td>\n",
       "      <td>NaN</td>\n",
       "      <td>NaN</td>\n",
       "      <td>NaN</td>\n",
       "    </tr>\n",
       "  </tbody>\n",
       "</table>\n",
       "</div>"
      ],
      "text/plain": [
       "                  100    250    500    750   1000   2500   5000   7500  10000\n",
       "Bubble Sort     0.001  0.003  0.006  0.009  0.012  0.035  0.081  0.148   0.16\n",
       "Merge Sort      0.001  0.003  0.007   0.01  0.013  0.038  0.104  0.127  0.171\n",
       "Counting Sort     NaN    NaN    NaN    NaN    NaN    NaN    NaN    NaN    NaN\n",
       "Selection Sort    NaN    NaN    NaN    NaN    NaN    NaN    NaN    NaN    NaN\n",
       "Insertion Sort    NaN    NaN    NaN    NaN    NaN    NaN    NaN    NaN    NaN"
      ]
     },
     "execution_count": 39,
     "metadata": {},
     "output_type": "execute_result"
    }
   ],
   "source": [
    "df"
   ]
  },
  {
   "cell_type": "code",
   "execution_count": null,
   "metadata": {},
   "outputs": [],
   "source": []
  },
  {
   "cell_type": "code",
   "execution_count": null,
   "metadata": {},
   "outputs": [],
   "source": []
  },
  {
   "cell_type": "code",
   "execution_count": null,
   "metadata": {},
   "outputs": [],
   "source": []
  },
  {
   "cell_type": "markdown",
   "metadata": {},
   "source": []
  },
  {
   "cell_type": "code",
   "execution_count": null,
   "metadata": {},
   "outputs": [],
   "source": []
  },
  {
   "cell_type": "code",
   "execution_count": null,
   "metadata": {},
   "outputs": [],
   "source": []
  },
  {
   "cell_type": "markdown",
   "metadata": {},
   "source": []
  },
  {
   "cell_type": "code",
   "execution_count": null,
   "metadata": {},
   "outputs": [],
   "source": []
  },
  {
   "cell_type": "markdown",
   "metadata": {},
   "source": []
  },
  {
   "cell_type": "code",
   "execution_count": null,
   "metadata": {},
   "outputs": [],
   "source": []
  },
  {
   "cell_type": "code",
   "execution_count": null,
   "metadata": {},
   "outputs": [],
   "source": [
    "\n"
   ]
  },
  {
   "cell_type": "code",
   "execution_count": null,
   "metadata": {},
   "outputs": [],
   "source": []
  },
  {
   "cell_type": "code",
   "execution_count": null,
   "metadata": {},
   "outputs": [],
   "source": []
  }
 ],
 "metadata": {
  "kernelspec": {
   "display_name": "Python 3",
   "language": "python",
   "name": "python3"
  },
  "language_info": {
   "codemirror_mode": {
    "name": "ipython",
    "version": 3
   },
   "file_extension": ".py",
   "mimetype": "text/x-python",
   "name": "python",
   "nbconvert_exporter": "python",
   "pygments_lexer": "ipython3",
   "version": "3.7.1"
  }
 },
 "nbformat": 4,
 "nbformat_minor": 2
}
