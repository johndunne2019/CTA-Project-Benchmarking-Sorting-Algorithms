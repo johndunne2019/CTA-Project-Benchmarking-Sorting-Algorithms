{
 "cells": [
  {
   "cell_type": "markdown",
   "metadata": {},
   "source": [
    "### I have included in this notebook the code for the five sorting algorithms to be implemented in this project. Sourced from online resources which are provided and added my own comments.\n",
    "\n",
    "### Followed by benchmarking section where all five sorting algotihms are ran ten times each on randomly generated arrays and the average time of the the ten runs will be output."
   ]
  },
  {
   "cell_type": "markdown",
   "metadata": {},
   "source": [
    "### 1. Bubble Sort\n",
    "   "
   ]
  },
  {
   "cell_type": "code",
   "execution_count": 1,
   "metadata": {},
   "outputs": [],
   "source": [
    "# Code sourced from: https://runestone.academy/runestone/books/published/pythonds/SortSearch/TheBubbleSort.html\n",
    "# Added my own comments\n",
    "# Bubble Sort has the capability to stop running when the list becomes sorted\n",
    "\n",
    "# Bubble sort function is created taking one input\n",
    "def bubbleSort(alist):\n",
    "    # A variable called exchanges is created and set to true \n",
    "    exchanges = True\n",
    "    # the variable passnum is set to the size of the input array minus 1 \n",
    "    passnum = len(alist)-1\n",
    "    # while loop executes while there is more than one element in the array and there are exchanges to be made\n",
    "    while passnum > 0 and exchanges:\n",
    "        # exchanges set to false at beginning of the loop\n",
    "        exchanges = False\n",
    "        # An inner for loop traverses each element in passnum array\n",
    "        for i in range(passnum):\n",
    "            # if the element on the left is greater than the element on the right then we must swap positions and set exchanges to boolean true\n",
    "            if alist[i]>alist[i+1]:\n",
    "                exchanges = True\n",
    "                # the element on the left is stored in a temporary variable\n",
    "                temp = alist[i]\n",
    "                # element on the left set equal to the element on its right\n",
    "                alist[i] = alist[i+1]\n",
    "                # the element that was originally on the left is moved from temp storage to the right position\n",
    "                alist[i+1] = temp\n",
    "                # Without the temp storage the left would be overwritten \n",
    "        # the new value od passnum is the previous array length minus 1 as we one less element to sort\n",
    "        passnum = passnum-1"
   ]
  },
  {
   "cell_type": "markdown",
   "metadata": {},
   "source": [
    "**Testing the Bubble Sort**\n",
    "\n",
    "Commented out"
   ]
  },
  {
   "cell_type": "code",
   "execution_count": 2,
   "metadata": {},
   "outputs": [],
   "source": [
    "#alist= [54,26,93,17,77,31,44,55,20]\n",
    "#bubbleSort(alist)\n",
    "#print(alist)"
   ]
  },
  {
   "cell_type": "markdown",
   "metadata": {},
   "source": [
    "**Testing with random array using example provided in project specification**\n",
    "\n",
    "Commented out"
   ]
  },
  {
   "cell_type": "code",
   "execution_count": 3,
   "metadata": {},
   "outputs": [],
   "source": [
    "#def random_array(n):\n",
    "    # empty array created to hold results\n",
    "    #array = []\n",
    "    # for loop will loop through input size to generate input size n integers\n",
    "    #for i in range(0, n, 1):\n",
    "        # randint generates random integers in a specified range. I have specified the upper bound of 99\n",
    "        #array.append(np.random.randint(0, 100))\n",
    "    #return array\n",
    "\n",
    "# random array generated\n",
    "#alist = random_array(500)\n",
    "# start time is the current time when this line is executed\n",
    "#start_time = time.time()\n",
    "# Bubble sort function called \n",
    "#bubbleSort(alist)\n",
    "# merge sort function called\n",
    "#mergeSort(alist)\n",
    "# insertion sort called\n",
    "#insertionSort(alist)\n",
    "# Sorted list will be printed to the console\n",
    "# commented out the array to be printed as I only need the time \n",
    "#print(alist)\n",
    "# end time is the current time when algorithm has finished running\n",
    "#end_time=time.time()\n",
    "# end time minus start time will show time taken for algorithm to execute\n",
    "#time_elapsed= end_time - start_time\n",
    "#print(round(time_elapsed, 3))"
   ]
  },
  {
   "cell_type": "markdown",
   "metadata": {},
   "source": [
    "### 2. Merge Sort"
   ]
  },
  {
   "cell_type": "code",
   "execution_count": 4,
   "metadata": {},
   "outputs": [],
   "source": [
    "# Code sourced from: https://runestone.academy/runestone/books/published/pythonds/SortSearch/TheMergeSort.html\n",
    "# Added my own comments\n",
    "\n",
    "# Merge sort function created taking a list as input\n",
    "# First half of the code concerned with splitting the lists into sub-lists\n",
    "def mergeSort(alist):\n",
    "    # print statement prints out the result of splitting the list into sub-lists, will comment out later\n",
    "    #print(\"Splitting \",alist)\n",
    "    # if statement will execute on lists with more than one element\n",
    "    if len(alist)>1:\n",
    "        # mid point of the list found \n",
    "        mid = len(alist)//2\n",
    "        # list sliced into left and right halves or sub-lists\n",
    "        # left half contains from start of list to mid point and right half from mid point to the end of list\n",
    "        lefthalf = alist[:mid]\n",
    "        righthalf = alist[mid:]\n",
    "        # mergeSort function is called on both halves to sort the lists\n",
    "        mergeSort(lefthalf)\n",
    "        mergeSort(righthalf)\n",
    "        # The sub-lists are now sorted\n",
    "\n",
    "        # From here on the code is concerned with merging the smaller sorted lists into a final sorted list\n",
    "        i=0\n",
    "        j=0\n",
    "        k=0\n",
    "        # While loops executes as long as both sub-lists contain at least one element\n",
    "        while i < len(lefthalf) and j < len(righthalf):\n",
    "            # if the element in the left half is less or equal to than the element in the right half it is stored in alist k\n",
    "            # this ensures the algorithm is stable as for elements with equal sort keys the element for the left half is places on the left\n",
    "            if lefthalf[i] <= righthalf[j]:\n",
    "                alist[k]=lefthalf[i]\n",
    "                i=i+1\n",
    "            # else statement executes if element on left half is not less than or equal to element in right half\n",
    "            else:\n",
    "                alist[k]=righthalf[j]\n",
    "                j=j+1\n",
    "            k=k+1\n",
    "            # the values of i, j and k are incremented after the execution of the relevant section of code\n",
    "        # The above while loop will execute as long as both sub-lits contain at least one element\n",
    "        # In the case of uneven numbers then one sub-list may have an element left and the other wll be empty\n",
    "        # Two additional while loops are added to deal with these cases\n",
    "\n",
    "        # This while loop will execute as long as there is an element present in the left half sub-list\n",
    "        while i < len(lefthalf):\n",
    "            alist[k]=lefthalf[i]\n",
    "            i=i+1\n",
    "            k=k+1\n",
    "        # This while loop will execute as long as there is an element present in the right half of the sub-list\n",
    "        while j < len(righthalf):\n",
    "            alist[k]=righthalf[j]\n",
    "            j=j+1\n",
    "            k=k+1\n",
    "    # print statement that shows the merging process in progress, will comment out later\n",
    "   # print(\"Merging \",alist)"
   ]
  },
  {
   "cell_type": "markdown",
   "metadata": {},
   "source": [
    "**Testing Merge Sort**"
   ]
  },
  {
   "cell_type": "code",
   "execution_count": 5,
   "metadata": {},
   "outputs": [],
   "source": [
    "# Testing the algorithm\n",
    "#alist = [54,26,93,17,77,31,44,55,20]\n",
    "#mergeSort(alist)\n",
    "#print(alist)"
   ]
  },
  {
   "cell_type": "markdown",
   "metadata": {},
   "source": [
    "### 3. Counting Sort"
   ]
  },
  {
   "cell_type": "code",
   "execution_count": 6,
   "metadata": {},
   "outputs": [],
   "source": [
    "#Code sourced from: https://www.w3resource.com/python-exercises/data-structures-and-algorithms/python-search-and-sorting-exercise-10.php\n",
    "# Added my own comments\n",
    "# I found it hard to find good examples of this sorting algorithm online \n",
    "# I had to change the function to only take an array as input as I wont be entering a max val when benchmarking \n",
    "\n",
    "# In the source code the function accepts:\n",
    "#def counting_sort(array1, max_val):\n",
    "    #m = max_val + 1\n",
    "\n",
    "def counting_sort(array1):\n",
    "# I changed the sourced code to have a set max val of 100 \n",
    "# I chose this as I am generating random integers up to 100 in the benchmarking\n",
    "    m = 100 + 1   # array created of size of range on input plus one \n",
    "    count = [0] * m                \n",
    "    \n",
    "    for a in array1:\n",
    "    # for loop loops through input array and counts number of occurrences \n",
    "    # the count is stored used a counter\n",
    "        count[a] += 1             \n",
    "    i = 0\n",
    "    for a in range(m):            \n",
    "        for c in range(count[a]):  \n",
    "            array1[i] = a\n",
    "            i += 1\n",
    "    return array1\n"
   ]
  },
  {
   "cell_type": "markdown",
   "metadata": {},
   "source": [
    "**Testing Counting Sort**"
   ]
  },
  {
   "cell_type": "code",
   "execution_count": 7,
   "metadata": {},
   "outputs": [],
   "source": [
    "#print(counting_sort( [1, 2, 7, 3, 2, 1, 4, 2, 3, 2, 1], 7 ))"
   ]
  },
  {
   "cell_type": "markdown",
   "metadata": {},
   "source": [
    "### 4. Insertion Sort"
   ]
  },
  {
   "cell_type": "code",
   "execution_count": 8,
   "metadata": {},
   "outputs": [],
   "source": [
    "# Code sourced from: https://runestone.academy/runestone/books/published/pythonds/SortSearch/TheInsertionSort.html\n",
    "#Added my own comments\n",
    "\n",
    "# Create an insertion sort function\n",
    "def insertionSort(alist):\n",
    "    # for loop to iterate over the list from index 1 to the end of the list\n",
    "    # we need n-1 passes to sort an input size n \n",
    "   for index in range(1,len(alist)):\n",
    "    # the position of the current item in the list is stored as currentvalue\n",
    "     currentvalue = alist[index]\n",
    "     position = index\n",
    "    # while loop checks the index of the element is greater than index zero\n",
    "    # The current element is compared to the element to its left\n",
    "    # if the position to its left is less than a shift operation will be made\n",
    "     while position>0 and alist[position-1]>currentvalue:\n",
    "         # this is the shift operation that moves the element back at each iteration of the while loop\n",
    "         # an element on the right that is less than an element on the left when compared is shifted to the left\n",
    "         alist[position]=alist[position-1]\n",
    "         # Note the variable position holds the new value of the sorted sub list\n",
    "         # This is not a complete exchange\n",
    "         position = position-1\n",
    "    # The sorted sublist is held in the variable position and this is now set equal to alist\n",
    "     alist[position]=currentvalue"
   ]
  },
  {
   "cell_type": "markdown",
   "metadata": {},
   "source": [
    "**Testing Insertion Sort**"
   ]
  },
  {
   "cell_type": "code",
   "execution_count": 9,
   "metadata": {},
   "outputs": [],
   "source": [
    "# Testing the algorithm\n",
    "#alist = [54,26,93,17,77,31,44,55,20]\n",
    "#insertionSort(alist)\n",
    "#print(alist)"
   ]
  },
  {
   "cell_type": "markdown",
   "metadata": {},
   "source": [
    "### 5. Selection Sort"
   ]
  },
  {
   "cell_type": "code",
   "execution_count": 10,
   "metadata": {},
   "outputs": [],
   "source": [
    "#sourced from: https://stackabuse.com/sorting-algorithms-in-python/#selectionsort\n",
    "#Have to add my own comments\n",
    "\n",
    "def selection_sort(nums):\n",
    "    # This value of i corresponds to how many values were sorted\n",
    "    for i in range(len(nums)):\n",
    "        # We assume that the first item of the unsorted segment is the smallest\n",
    "        lowest_value_index = i\n",
    "        # This loop iterates over the unsorted items\n",
    "        for j in range(i + 1, len(nums)):\n",
    "            if nums[j] < nums[lowest_value_index]:\n",
    "                lowest_value_index = j\n",
    "        # Swap values of the lowest unsorted element with the first unsorted\n",
    "        # element\n",
    "        nums[i], nums[lowest_value_index] = nums[lowest_value_index], nums[i]\n",
    "\n",
    "\n"
   ]
  },
  {
   "cell_type": "code",
   "execution_count": 11,
   "metadata": {},
   "outputs": [],
   "source": [
    "# Testing the algorithm\n",
    "#random_list_of_nums = [12, 8, 3, 20, 11]\n",
    "#selection_sort(random_list_of_nums)\n",
    "#print(random_list_of_nums)"
   ]
  },
  {
   "cell_type": "markdown",
   "metadata": {},
   "source": [
    "### 6. Benchmarking the five sorting algorithms\n",
    "\n",
    "**Import libraries**"
   ]
  },
  {
   "cell_type": "code",
   "execution_count": 29,
   "metadata": {},
   "outputs": [],
   "source": [
    "# built in python time module as suggested to use in the project specification\n",
    "import time \n",
    "# import pandas to created a dataframe to hold the average times from benchmarking\n",
    "import pandas as pd \n",
    "# I will use numpy.random.radnint to generate the random integers for benchmarking \n",
    "# I will use numpy.mean to find the average of the ten runs for each input size\n",
    "import numpy as np "
   ]
  },
  {
   "cell_type": "markdown",
   "metadata": {},
   "source": [
    "**Create a pandas DataFrame which will be used to hold results**"
   ]
  },
  {
   "cell_type": "markdown",
   "metadata": {},
   "source": [
    "* Pandas.dataframe documentation [Online] Available from: https://pandas.pydata.org/pandas-docs/stable/generated/pandas.DataFrame.html\n",
    "* GeeksforGeeks, Python Pandas Dataframe [Online] Available from: https://www.geeksforgeeks.org/python-pandas-dataframe/\n",
    "* Datframe.iloc: https://pandas.pydata.org/pandas-docs/stable/reference/api/pandas.DataFrame.iloc.html\n"
   ]
  },
  {
   "cell_type": "code",
   "execution_count": 30,
   "metadata": {},
   "outputs": [],
   "source": [
    "# Define the rows and columns to be included in my pandas dataframe\n",
    "Input_Size = [\"100\", \"250\", \"500\", \"750\", \"1000\", \"1250\", \"2500\", \"3750\", \"5000\", \"7500\", \"10000\"]\n",
    "Algorithms = [\"Bubble Sort\", \"Merge Sort\", \"Counting Sort\", \"Insertion Sort\", \"Selection Sort\"]\n",
    "\n",
    "# new pandas dataframe created with columns and index labelled\n",
    "df = pd.DataFrame(index=Algorithms,columns=Input_Size)\n",
    "# Check what the output looks like, commneted out\n",
    "#df"
   ]
  },
  {
   "cell_type": "markdown",
   "metadata": {},
   "source": [
    "**Generate random arrays of numbers to be used in the benchmarking**\n",
    "\n",
    "**Timing Bubble Sort**"
   ]
  },
  {
   "cell_type": "code",
   "execution_count": 16,
   "metadata": {},
   "outputs": [],
   "source": [
    "# I built out the code using the time and random code snippets in the project specification as a starting point \n",
    "# Python time module: https://docs.python.org/3/library/time.html\n",
    "#numpy.random.randint: https://docs.scipy.org/doc/numpy-1.16.0/reference/routines.random.html#simple-random-data\n",
    "#similar to example provided in the project specificaton but I will use numpy.random instead of the Python random module\n",
    "\n",
    "# Create a function to be used to generate random integers from numpy.random\n",
    "def random_array(n):\n",
    "    # empty array created to hold results\n",
    "    array = []\n",
    "    # for loop will loop through input size to generate input size n integers\n",
    "    for i in range(0, n, 1):\n",
    "        # numpy.random.randint generates random integers in a specified range. I have specified heh upper range of 100.\n",
    "        array.append(np.random.randint(0, 100))\n",
    "    return array\n",
    "\n",
    "# I tested the sorting algorithms that I am using for benchmarking on one randonly generated array uing above code\n",
    "# I need to generate a random array for each input size I want to test the algorithms on\n",
    "# calling the random array function on all input sizes and \n",
    "# storing the resulting random generated arrays in an array container should work\n",
    "\n",
    "# create an array containing the same values as in the pandas dataframe\n",
    "testing_arrays = [100, 250, 500, 750, 1000, 1250, 2500, 3750, 5000, 7500, 10000] \n",
    "# for loop to loop through the sizes contained in array\n",
    "for array in range(len(testing_arrays)):\n",
    "    # I need a container to hold the randomly generated arrays\n",
    "    store_results_in_array = []\n",
    "    # I want to let the user know the code is running as it will take some time to complete all runs of the algorithms\n",
    "    # I will use an fstring to print a message to the user\n",
    "    print(f\"Algorithms run number {array + 1} of 11 in progress, please wait for completion\")\n",
    "    # I need ten arrays of each input size to be generated so I will put another for loop\n",
    "    for d in range(10): \n",
    "        # random_array function called taking the elements in the testing_array as input\n",
    "        # results will be held in benchmark array\n",
    "        # for example on first iteration of loop 10 arrays of lenght 100 will be generated and stored\n",
    "        benchmark_array= random_array(testing_arrays[array])\n",
    "        #print out arrays to check they generate ok, commented out\n",
    "        #print(benchmark_array)\n",
    "        #use the python time module to time each run of the algorithm\n",
    "        #using example from project specification as a guide\n",
    "        # start time\n",
    "        start_time = time.time()\n",
    "        #call sorting algoithm here\n",
    "        #run a test for all algorithms in my project to see everything looks ok, commented out\n",
    "        bubbleSort(benchmark_array)\n",
    "        #insertionSort(benchmark_array), testing purposed only, commented out\n",
    "        #mergeSort(benchmark_array) testing purposed only, commented out\n",
    "        #selection_sort(benchmark_array) testing purposed only, commented out\n",
    "        #counting_sort(benchmark_array) testing purposed only, commented out\n",
    "        finish_time = time.time()\n",
    "        time_elapsed= finish_time - start_time\n",
    "        # append the time elapsed to the array created to hold the running times\n",
    "        store_results_in_array.append(time_elapsed)\n",
    "        #print(time_elapsed), testing purposes only, commented out\n",
    "    # I will use numpy.mean to find the average time of the array holding the overall run times \n",
    "    # numpy.mean: https://docs.scipy.org/doc/numpy-1.14.0/reference/generated/numpy.mean.html\n",
    "    average_time_bubble_sort = np.mean(store_results_in_array)\n",
    "    #print(average_time_bubble_sort)  #testing purposes only, commented out \n",
    "    #I want to have the average of the ten runs of each input size added to the pandas dataframe created earlier\n",
    "    # dataframe.iloc is one way to do this\n",
    "    # it takes parameters for index and column to be selected in the dataframe\n",
    "    # bubble sort is index zero and I will put in the array variable for columns \n",
    "    # the array variable is the input sizes as held in the testing_array\n",
    "    df.iloc[0,array] = round((average_time_bubble_sort),3)\n",
    "  \n",
    "    # how to clone arrays https://stackoverflow.com/questions/2612802/how-to-clone-or-copy-a-list/2612815#2612815\n",
    "    # have to return to this\n",
    "      "
   ]
  },
  {
   "cell_type": "markdown",
   "metadata": {},
   "source": [
    "**The above code will be repeated for the other 4 sorting algorithms**"
   ]
  },
  {
   "cell_type": "markdown",
   "metadata": {},
   "source": [
    "**Timing Merge Sort**"
   ]
  },
  {
   "cell_type": "code",
   "execution_count": 38,
   "metadata": {},
   "outputs": [
    {
     "name": "stdout",
     "output_type": "stream",
     "text": [
      "Algorithms run number 1 of 11 in progress, please wait for completion\n",
      "Algorithms run number 2 of 11 in progress, please wait for completion\n",
      "Algorithms run number 3 of 11 in progress, please wait for completion\n",
      "Algorithms run number 4 of 11 in progress, please wait for completion\n",
      "Algorithms run number 5 of 11 in progress, please wait for completion\n",
      "Algorithms run number 6 of 11 in progress, please wait for completion\n",
      "Algorithms run number 7 of 11 in progress, please wait for completion\n",
      "Algorithms run number 8 of 11 in progress, please wait for completion\n",
      "Algorithms run number 9 of 11 in progress, please wait for completion\n",
      "Algorithms run number 10 of 11 in progress, please wait for completion\n",
      "Algorithms run number 11 of 11 in progress, please wait for completion\n"
     ]
    }
   ],
   "source": [
    "for array in range(len(testing_arrays)):\n",
    "    store_results_in_array = []\n",
    "    print(f\"Algorithms run number {array + 1} of 11 in progress, please wait for completion\")\n",
    "    for d in range(10): \n",
    "        benchmark_array= random_array(testing_arrays[array])\n",
    "        start_time = time.time()\n",
    "        mergeSort(benchmark_array)\n",
    "        finish_time = time.time()\n",
    "        time_elapsed= finish_time - start_time\n",
    "        store_results_in_array.append(time_elapsed)\n",
    "    average_time_merge_sort = np.mean(store_results_in_array)\n",
    "    df.iloc[1,array] = round((average_time_merge_sort),3)"
   ]
  },
  {
   "cell_type": "markdown",
   "metadata": {},
   "source": [
    "**Timing Counting Sort**"
   ]
  },
  {
   "cell_type": "code",
   "execution_count": 19,
   "metadata": {},
   "outputs": [],
   "source": [
    "for array in range(len(testing_arrays)):\n",
    "    store_results_in_array = []\n",
    "    print(f\"Algorithms run number {array + 1} of 11 in progress, please wait for completion\")\n",
    "    for d in range(10): \n",
    "        benchmark_array= random_array(testing_arrays[array])\n",
    "        start_time = time.time()\n",
    "        counting_sort(benchmark_array)\n",
    "        finish_time = time.time()\n",
    "        time_elapsed= finish_time - start_time\n",
    "        store_results_in_array.append(time_elapsed)\n",
    "    average_time_counting_sort = np.mean(store_results_in_array)\n",
    "    df.iloc[2,array] = round((average_time_counting_sort),3)"
   ]
  },
  {
   "cell_type": "markdown",
   "metadata": {},
   "source": [
    "**Timing Insertion Sort**"
   ]
  },
  {
   "cell_type": "code",
   "execution_count": null,
   "metadata": {},
   "outputs": [],
   "source": [
    "for array in range(len(testing_arrays)):\n",
    "    store_results_in_array = []\n",
    "    print(f\"Algorithms run number {array + 1} of 11 in progress, please wait for completion\")\n",
    "    for d in range(10): \n",
    "        benchmark_array= random_array(testing_arrays[array])\n",
    "        start_time = time.time()\n",
    "        insertionsort(benchmark_array)\n",
    "        finish_time = time.time()\n",
    "        time_elapsed= finish_time - start_time\n",
    "        store_results_in_array.append(time_elapsed)\n",
    "    average_time_insertion_sort = np.mean(store_results_in_array)\n",
    "    df.iloc[3,array] = round((average_time_insertion_sort),3)"
   ]
  },
  {
   "cell_type": "markdown",
   "metadata": {},
   "source": [
    "**Timing selection sort**"
   ]
  },
  {
   "cell_type": "code",
   "execution_count": null,
   "metadata": {},
   "outputs": [],
   "source": [
    "for array in range(len(testing_arrays)):\n",
    "    store_results_in_array = []\n",
    "    print(f\"Algorithms run number {array + 1} of 11 in progress, please wait for completion\")\n",
    "    for d in range(10): \n",
    "        benchmark_array= random_array(testing_arrays[array])\n",
    "        start_time = time.time()\n",
    "        selection_sort(benchmark_array)\n",
    "        finish_time = time.time()\n",
    "        time_elapsed= finish_time - start_time\n",
    "        store_results_in_array.append(time_elapsed)\n",
    "    average_time_selection_sort = np.mean(store_results_in_array)\n",
    "    df.iloc[4,array] = round((average_time_selection_sort),3)"
   ]
  },
  {
   "cell_type": "code",
   "execution_count": 22,
   "metadata": {},
   "outputs": [
    {
     "data": {
      "text/html": [
       "<div>\n",
       "<style scoped>\n",
       "    .dataframe tbody tr th:only-of-type {\n",
       "        vertical-align: middle;\n",
       "    }\n",
       "\n",
       "    .dataframe tbody tr th {\n",
       "        vertical-align: top;\n",
       "    }\n",
       "\n",
       "    .dataframe thead th {\n",
       "        text-align: right;\n",
       "    }\n",
       "</style>\n",
       "<table border=\"1\" class=\"dataframe\">\n",
       "  <thead>\n",
       "    <tr style=\"text-align: right;\">\n",
       "      <th></th>\n",
       "      <th>100</th>\n",
       "      <th>250</th>\n",
       "      <th>500</th>\n",
       "      <th>750</th>\n",
       "      <th>1000</th>\n",
       "      <th>1250</th>\n",
       "      <th>2500</th>\n",
       "      <th>3750</th>\n",
       "      <th>5000</th>\n",
       "      <th>7500</th>\n",
       "      <th>10000</th>\n",
       "    </tr>\n",
       "  </thead>\n",
       "  <tbody>\n",
       "    <tr>\n",
       "      <th>Bubble Sort</th>\n",
       "      <td>0.003</td>\n",
       "      <td>0.016</td>\n",
       "      <td>0.074</td>\n",
       "      <td>0.206</td>\n",
       "      <td>0.304</td>\n",
       "      <td>0.473</td>\n",
       "      <td>1.908</td>\n",
       "      <td>4.543</td>\n",
       "      <td>7.634</td>\n",
       "      <td>17.138</td>\n",
       "      <td>30.319</td>\n",
       "    </tr>\n",
       "    <tr>\n",
       "      <th>Merge Sort</th>\n",
       "      <td>0.001</td>\n",
       "      <td>0.003</td>\n",
       "      <td>0.007</td>\n",
       "      <td>0.01</td>\n",
       "      <td>0.02</td>\n",
       "      <td>0.026</td>\n",
       "      <td>0.037</td>\n",
       "      <td>0.052</td>\n",
       "      <td>0.073</td>\n",
       "      <td>0.113</td>\n",
       "      <td>0.168</td>\n",
       "    </tr>\n",
       "    <tr>\n",
       "      <th>Counting Sort</th>\n",
       "      <td>NaN</td>\n",
       "      <td>NaN</td>\n",
       "      <td>NaN</td>\n",
       "      <td>NaN</td>\n",
       "      <td>NaN</td>\n",
       "      <td>NaN</td>\n",
       "      <td>NaN</td>\n",
       "      <td>NaN</td>\n",
       "      <td>NaN</td>\n",
       "      <td>NaN</td>\n",
       "      <td>NaN</td>\n",
       "    </tr>\n",
       "    <tr>\n",
       "      <th>Selection Sort</th>\n",
       "      <td>0.001</td>\n",
       "      <td>0.006</td>\n",
       "      <td>0.031</td>\n",
       "      <td>0.073</td>\n",
       "      <td>0.121</td>\n",
       "      <td>0.184</td>\n",
       "      <td>0.762</td>\n",
       "      <td>1.727</td>\n",
       "      <td>3.068</td>\n",
       "      <td>6.904</td>\n",
       "      <td>12.81</td>\n",
       "    </tr>\n",
       "    <tr>\n",
       "      <th>Insertion Sort</th>\n",
       "      <td>NaN</td>\n",
       "      <td>NaN</td>\n",
       "      <td>NaN</td>\n",
       "      <td>NaN</td>\n",
       "      <td>NaN</td>\n",
       "      <td>NaN</td>\n",
       "      <td>NaN</td>\n",
       "      <td>NaN</td>\n",
       "      <td>NaN</td>\n",
       "      <td>NaN</td>\n",
       "      <td>NaN</td>\n",
       "    </tr>\n",
       "  </tbody>\n",
       "</table>\n",
       "</div>"
      ],
      "text/plain": [
       "                  100    250    500    750   1000   1250   2500   3750   5000  \\\n",
       "Bubble Sort     0.003  0.016  0.074  0.206  0.304  0.473  1.908  4.543  7.634   \n",
       "Merge Sort      0.001  0.003  0.007   0.01   0.02  0.026  0.037  0.052  0.073   \n",
       "Counting Sort     NaN    NaN    NaN    NaN    NaN    NaN    NaN    NaN    NaN   \n",
       "Selection Sort  0.001  0.006  0.031  0.073  0.121  0.184  0.762  1.727  3.068   \n",
       "Insertion Sort    NaN    NaN    NaN    NaN    NaN    NaN    NaN    NaN    NaN   \n",
       "\n",
       "                  7500   10000  \n",
       "Bubble Sort     17.138  30.319  \n",
       "Merge Sort       0.113   0.168  \n",
       "Counting Sort      NaN     NaN  \n",
       "Selection Sort   6.904   12.81  \n",
       "Insertion Sort     NaN     NaN  "
      ]
     },
     "execution_count": 22,
     "metadata": {},
     "output_type": "execute_result"
    }
   ],
   "source": [
    "# display the pandas dataframe\n",
    "df"
   ]
  },
  {
   "cell_type": "code",
   "execution_count": null,
   "metadata": {},
   "outputs": [],
   "source": []
  },
  {
   "cell_type": "code",
   "execution_count": null,
   "metadata": {},
   "outputs": [],
   "source": []
  },
  {
   "cell_type": "markdown",
   "metadata": {},
   "source": []
  },
  {
   "cell_type": "code",
   "execution_count": null,
   "metadata": {},
   "outputs": [],
   "source": []
  },
  {
   "cell_type": "code",
   "execution_count": null,
   "metadata": {},
   "outputs": [],
   "source": []
  },
  {
   "cell_type": "markdown",
   "metadata": {},
   "source": []
  },
  {
   "cell_type": "code",
   "execution_count": null,
   "metadata": {},
   "outputs": [],
   "source": []
  },
  {
   "cell_type": "markdown",
   "metadata": {},
   "source": []
  },
  {
   "cell_type": "code",
   "execution_count": null,
   "metadata": {},
   "outputs": [],
   "source": []
  },
  {
   "cell_type": "code",
   "execution_count": null,
   "metadata": {},
   "outputs": [],
   "source": [
    "\n"
   ]
  },
  {
   "cell_type": "code",
   "execution_count": null,
   "metadata": {},
   "outputs": [],
   "source": []
  },
  {
   "cell_type": "code",
   "execution_count": null,
   "metadata": {},
   "outputs": [],
   "source": []
  }
 ],
 "metadata": {
  "kernelspec": {
   "display_name": "Python 3",
   "language": "python",
   "name": "python3"
  },
  "language_info": {
   "codemirror_mode": {
    "name": "ipython",
    "version": 3
   },
   "file_extension": ".py",
   "mimetype": "text/x-python",
   "name": "python",
   "nbconvert_exporter": "python",
   "pygments_lexer": "ipython3",
   "version": "3.7.1"
  }
 },
 "nbformat": 4,
 "nbformat_minor": 2
}
