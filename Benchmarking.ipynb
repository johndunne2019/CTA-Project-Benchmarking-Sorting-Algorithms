{
 "cells": [
  {
   "cell_type": "markdown",
   "metadata": {},
   "source": [
    "Bubble Sort"
   ]
  },
  {
   "cell_type": "markdown",
   "metadata": {},
   "source": [
    "esc + m for markdown celll\n",
    "   "
   ]
  },
  {
   "cell_type": "code",
   "execution_count": 2,
   "metadata": {},
   "outputs": [],
   "source": [
    "# Code sourced from: https://runestone.academy/runestone/books/published/pythonds/SortSearch/TheBubbleSort.html\n",
    "# Added my own comments\n",
    "# Bubble Sort has the capability to stop running when the list becomes sorted\n",
    "\n",
    "# Bubble sort function is created taking one input\n",
    "def bubbleSort(alist):\n",
    "    # A variable called exchanges is created and set to true \n",
    "    exchanges = True\n",
    "    # the variable passnum is set to the size of the input array minus 1 \n",
    "    passnum = len(alist)-1\n",
    "    # while loop executes while there is more than one element in the array and there are exchanges to be made\n",
    "    while passnum > 0 and exchanges:\n",
    "        # exchanges set to false at beginning of the loop\n",
    "        exchanges = False\n",
    "        # An inner for loop traverses each element in passnum array\n",
    "        for i in range(passnum):\n",
    "            # if the element on the left is greater than the element on the right then we must swap positions and set exchanges to boolean true\n",
    "            if alist[i]>alist[i+1]:\n",
    "                exchanges = True\n",
    "                # the element on the left is stored in a temporary variable\n",
    "                temp = alist[i]\n",
    "                # element on the left set equal to the element on its right\n",
    "                alist[i] = alist[i+1]\n",
    "                # the element that was originally on the left is moved from temp storage to the right position\n",
    "                alist[i+1] = temp\n",
    "                # Without the temp storage the left would be overwritten \n",
    "        # the new value od passnum is the previous array length minus 1 as we one less element to sort\n",
    "        passnum = passnum-1"
   ]
  },
  {
   "cell_type": "markdown",
   "metadata": {},
   "source": [
    "Generate random array of integers:"
   ]
  },
  {
   "cell_type": "code",
   "execution_count": 3,
   "metadata": {},
   "outputs": [],
   "source": [
    "# import the random module to generate arrays of random integers\n",
    "import random\n",
    "def random_array(n):\n",
    "    array=[]\n",
    "    # the range will be between zero and the input n \n",
    "    for i in range(0, n, 1):\n",
    "        # random.randint will generate random integers (whole numbers)\n",
    "        array.append(random.randint(0, 1000))\n",
    "    # return the array of random integers\n",
    "    return array"
   ]
  },
  {
   "cell_type": "markdown",
   "metadata": {},
   "source": [
    "Timing the Bubble Sort Algortihm:"
   ]
  },
  {
   "cell_type": "code",
   "execution_count": 5,
   "metadata": {},
   "outputs": [
    {
     "name": "stdout",
     "output_type": "stream",
     "text": [
      "[22, 25, 56, 65, 66, 68, 91, 124, 127, 128, 132, 134, 146, 170, 183, 191, 192, 204, 222, 236, 255, 256, 340, 375, 375, 422, 459, 472, 524, 579, 585, 621, 624, 643, 660, 661, 690, 698, 731, 758, 848, 863, 888, 911, 924, 924, 951, 969, 986, 986]\n",
      "0.002\n"
     ]
    }
   ],
   "source": [
    "# random array generated\n",
    "alist = random_array(50)\n",
    "# python time module imported\n",
    "import time\n",
    "# start time is the current time when this line is executed\n",
    "start_time = time.time()\n",
    "# Bubble sort function called \n",
    "bubbleSort(alist)\n",
    "# Sorted list will be printed to the console\n",
    "print(alist)\n",
    "# end time is the current time when algorithm has finished running\n",
    "end_time=time.time()\n",
    "# end time minus start time will show time taken for algorithm to execute\n",
    "time_elapsed= end_time - start_time\n",
    "print(round(time_elapsed, 3))"
   ]
  },
  {
   "cell_type": "code",
   "execution_count": null,
   "metadata": {},
   "outputs": [],
   "source": []
  }
 ],
 "metadata": {
  "kernelspec": {
   "display_name": "Python 3",
   "language": "python",
   "name": "python3"
  },
  "language_info": {
   "codemirror_mode": {
    "name": "ipython",
    "version": 3
   },
   "file_extension": ".py",
   "mimetype": "text/x-python",
   "name": "python",
   "nbconvert_exporter": "python",
   "pygments_lexer": "ipython3",
   "version": "3.7.1"
  }
 },
 "nbformat": 4,
 "nbformat_minor": 2
}
